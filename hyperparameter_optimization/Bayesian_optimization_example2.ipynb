{
 "cells": [
  {
   "cell_type": "markdown",
   "metadata": {},
   "source": [
    "$y=ax+b+\\epsilon$ 형태의 분포로 데이터를 모델링 할겁니다. $\\epsilon$은 글로벌 파라미터이자 $x$에 의존하는 분포의 noise입니다.주된 목표는 $a$와 $b$를 좋게 추정하는 것입니다.<br> \n",
    "\n",
    "모델을 스튜던트 t-분포(shape과 scale 둘 다 $x$에 의존합니다.)를 이용해서 $\\epsilon=y-ax+b$를 시도할겁니다. (mode(최빈값)는 zero로 가정합니다) 파라미터를 찾기 위해서, 우린 모델링 분포와 실험 데이터간의 크로스 엔트로피를 최소화하려 합니다; 이 최소화는 Gradient descent로 할 수 있습니다. (텐서플로우 라이브러리를 써서요! www.tensorflow.org)<br>\n",
    "\n",
    "오버피팅 방지를 위해 L2 regularization을 쓸겁니다. 선택한 regularization의 힘은 cross-validation error의 베이지안 최적화에서 나옵니다. 마지막에는 데이터를 섞고 나눠서, 60%의 데이터는 트레이닝, 20%의 데이터는 validation, 20%의 데이터는 testing용으로 3개의 그룹을 만듭니다.<br><br>"
   ]
  },
  {
   "cell_type": "code",
   "execution_count": 1,
   "metadata": {},
   "outputs": [],
   "source": [
    "import tensorflow as tf\n",
    "import tensorflow.contrib.distributions as dist\n",
    "import numpy as np\n",
    "import pandas as pd\n",
    "from numpy import pi\n",
    "import matplotlib.pyplot as plt\n",
    "%matplotlib inline\n",
    "from ipywidgets import FloatProgress\n",
    "from IPython.display import display\n",
    "\n",
    "testing_proportion = 0.2\n",
    "validation_proportion = 0.2\n",
    "\n",
    "hyper_param_dim=6\n",
    "l2_reg_min,l2_reg_max = -50,0\n",
    "sqrt_2 = np.sqrt(2.).astype(np.float32)\n",
    "sqrt_5 = np.sqrt(5.).astype(np.float32)\n",
    "# The folowing are global settings used for the bayesian optimization of the hyper-parameters.\n",
    "initial_GP_test_points = 5 # these are randomly chosen points with which to initialize the bayesian optimization\n",
    "total_GP_test_points = 20 # total number of points used in bayesian optimization\n",
    "max_feelers = 10 # number of points used in batch-gradient-descent optimization."
   ]
  },
  {
   "cell_type": "markdown",
   "metadata": {},
   "source": [
    "import하고 데이터를 plot해서 보죠"
   ]
  },
  {
   "cell_type": "code",
   "execution_count": 2,
   "metadata": {
    "scrolled": false
   },
   "outputs": [
    {
     "data": {
      "image/png": "[encoded data removed]",
      "text/plain": [
       "<matplotlib.figure.Figure at 0x2663b8c5710>"
      ]
     },
     "metadata": {},
     "output_type": "display_data"
    }
   ],
   "source": [
    "# First, we import and shuffle the data.\n",
    "# data = pd.read_csv(\"data.csv\").as_matrix()\n",
    "data = pd.read_csv('Sentiment_Analysis.csv').as_matrix()\n",
    "\n",
    "x_min,x_max = np.min(data[:,0])-1,np.max(data[:,0])+1\n",
    "y_min,y_max = np.min(data[:,1])-1,np.max(data[:,1])+1\n",
    "\n",
    "fig, (ax1, ax2) = plt.subplots(1,2,figsize=(12,4))\n",
    "ax1.set_xlim(x_min, x_max)\n",
    "ax1.set_ylim(y_min, y_max)\n",
    "ax1.set_ylim(-50,120)\n",
    "ax2.set_xlim(x_min, x_max)\n",
    "ax2.set_ylim(-10,10)\n",
    "ax1.plot(data[:,0],data[:,1],'ro')\n",
    "ax2.plot(data[:,0],data[:,1],'ro')\n",
    "plt.show()"
   ]
  },
  {
   "cell_type": "markdown",
   "metadata": {},
   "source": [
    "이제 테스트 데이터를 섞고 나눕시다.<br>"
   ]
  },
  {
   "cell_type": "code",
   "execution_count": 3,
   "metadata": {},
   "outputs": [],
   "source": [
    "# First, we shuffle the data.\n",
    "data = np.random.permutation(data)\n",
    "data_len,_ = data.shape\n",
    "# Next we divide the data into (training and validation) vs testing sets\n",
    "test_data_len = int(np.floor(data_len*testing_proportion))\n",
    "valid_data_len = int(np.floor(data_len*validation_proportion))\n",
    "# the testing set gets a data slice of size test_data_len\n",
    "test_data = data[:test_data_len,:] \n",
    "# the train/validation set gets the rest\n",
    "train_and_valid_data=data[test_data_len:,:]"
   ]
  },
  {
   "cell_type": "markdown",
   "metadata": {},
   "source": [
    "섞은 다음 training과 validation 세트로 나눌 수 있게 도와주는 함수를 적어봅시다. 나중에 cross validation을 통한 hyperparameter들을 선택에 도움이 될겁니다.<br>"
   ]
  },
  {
   "cell_type": "code",
   "execution_count": 4,
   "metadata": {},
   "outputs": [],
   "source": [
    "def train_and_valid_set_split():\n",
    "    shuffled_train_and_valid_data = np.random.permutation(train_and_valid_data)\n",
    "    # the validation set gets the next data slice of size valid_data_len\n",
    "    valid_data = shuffled_train_and_valid_data[:valid_data_len,:]\n",
    "    # the training data is whatever's left.\n",
    "    train_data = shuffled_train_and_valid_data[valid_data_len:,:]\n",
    "    return train_data,valid_data"
   ]
  },
  {
   "cell_type": "markdown",
   "metadata": {},
   "source": [
    "모델의 input 데이터와 모델의 target 데이터, regularization strength (regularization term의 constant lambda. 0이면 쓰지않는 것이고, 1이면 이 부분을 강력하게 쓰겠다는 뜻) hyperparameter를 넣을 placeholder를 만들어봅시다.<br>"
   ]
  },
  {
   "cell_type": "code",
   "execution_count": 5,
   "metadata": {},
   "outputs": [],
   "source": [
    "# Create a placeholder for the input data\n",
    "x = tf.placeholder(tf.float32, shape = [None]) # here shape=[None] refers to a variable length vector\n",
    "# Create a placeholder for the target data\n",
    "y_ = tf.placeholder(tf.float32, shape = [None]) # here shape=[None] refers to a variable length vector\n",
    "# Create a placeholder for the hyper-paremeters\n",
    "l2_reg_strength = tf.placeholder(tf.float32,shape = [hyper_param_dim]) # here shape=2 refers to vector of length 2."
   ]
  },
  {
   "cell_type": "markdown",
   "metadata": {},
   "source": [
    "$\\epsilon$의 mode는 $y=ax+b$여야 합니다. $a$값과 $b$값을 배우길 바라죠, 그러니 이 녀석들을 위한 변수 정의(0으로 initialize한)를 해봅시다.<br>"
   ]
  },
  {
   "cell_type": "code",
   "execution_count": 6,
   "metadata": {},
   "outputs": [],
   "source": [
    "with tf.variable_scope('model'):\n",
    "    a = tf.Variable(initial_value = tf.constant(0.),name = \"slope_of_mode\")\n",
    "    b = tf.Variable(initial_value = tf.constant(0.),name = \"x_intercept_of_mode\")\n",
    "    y = a*x+b"
   ]
  },
  {
   "cell_type": "markdown",
   "metadata": {},
   "source": [
    "스튜던트 t-분포를 통한 노이즈를 모델링해 봅시다<br>\n",
    "\n",
    "$$\\frac{\\Gamma(\\frac{\\nu+1}{2})}{\\sigma \\sqrt{\\nu \\pi}\\Gamma(\\frac{\\nu}{2})}\\left[\\frac{\\nu+(\\frac{y-\\mu}{\\sigma})^2}{\\nu}\\right]^{-\\frac{\\nu+1}{2}}$$<br>\n",
    "\n",
    "파라미터들은 : mode $\\mu$, scale $\\sigma>0$, shape $\\nu>0$"
   ]
  },
  {
   "cell_type": "markdown",
   "metadata": {},
   "source": [
    "shape이랑 scale을 $x$와 다르게 하길 원합니다. 데이터의 plot을 보면, data points들은 $x=0$ 근처에 집중되어 있습니다. 그리고 $x$가 증가하듯 퍼져있습니다; 이 현상을 포착하기 위해, 분포의 크기를 위한 간단한 functional 형태를 선택할것입니다 ($x$의 함수처럼):<br><br>\n",
    "$$\\sigma=w_{bias}((\\frac{w_{slope}}{w_{bias}}x-w_{arg-min})^2+1)^{w_{pow}}$$<br>\n",
    "간결함을 위해, $x=w_{arg-min}$에서 $\\sigma(x)$를 대칭(symmetric)이라고 가정합니다. $w_{pow}=1/2$일때, $w_{slope}$는 $\\sigma(x)$ 크기 변화의 점진적 비율입니다. 그리고 $\\sigma(x)$의 functional 형태는 베이지안 진단 선형 가우시안 회귀법(사후확률을 적분한, t-분포 안의 결과들); $\\sigma(x)$를 위한 functional 형태는 바로 모델에 넣는 $b$ 값에서 약간의 불확실성을 포함하게 합니다. 약간 다르게 하면, $w_{pow}$의 정확한 값을 배울 수 있게 합니다.<br>\n",
    "\n",
    "$\\nu$ shape도 비슷한 functional 형태로 줍니다."
   ]
  },
  {
   "cell_type": "code",
   "execution_count": 7,
   "metadata": {},
   "outputs": [],
   "source": [
    "with tf.variable_scope('model'):\n",
    "    log_bias_scale = tf.Variable(tf.constant(0.),name=\"scale_log_bias\")\n",
    "    arg_min_scale = tf.Variable(tf.constant(0,tf.float32),name=\"scale_arg_min\")\n",
    "    slope_scale = tf.Variable(tf.constant(1.),name=\"scale_log_slope\")\n",
    "    pow_scale = tf.Variable(tf.constant(.5,name='power_for_scale'))\n",
    "    scale = tf.pow(tf.square(slope_scale*(x-arg_min_scale))/tf.exp(log_bias_scale)+1.,\n",
    "                   pow_scale, name=\"scale\")*tf.exp(log_bias_scale)\n",
    "\n",
    "    log_bias_shape = tf.Variable(tf.constant(0.),name=\"shape_log_bias\")\n",
    "    arg_min_shape = tf.Variable(tf.constant(0,tf.float32),name=\"shape_arg_min\")\n",
    "    slope_shape = tf.Variable(tf.constant(1.),name=\"shape_log_slope\")\n",
    "    pow_shape = tf.Variable(tf.constant(-.5,name='power_for_shape'))\n",
    "    shape = tf.pow(tf.square(slope_shape*(x-arg_min_shape))/tf.exp(log_bias_shape)+1.,\n",
    "                   pow_shape,name=\"shape\")*tf.exp(log_bias_shape)"
   ]
  },
  {
   "cell_type": "markdown",
   "metadata": {},
   "source": [
    "이 변수들을 스튜던트 t-분포에 넣어보자"
   ]
  },
  {
   "cell_type": "code",
   "execution_count": 8,
   "metadata": {},
   "outputs": [],
   "source": [
    "model_distribution = dist.StudentT(df = shape, loc = y, scale = scale)"
   ]
  },
  {
   "cell_type": "markdown",
   "metadata": {},
   "source": [
    "실증적 데이터와 모델링된 분포사이의 크로스 엔트로피를 줄여봅시다. $H(p,q)=-\\int p(y\\mid x)\\log(q(y\\mid x,\\mathrm{parameters}))$를 줄이는데에 관심이 많죠. ($p$는 실제 분포를 나타내고, $q(x|\\mathrm{parameters})$는 맞추려는 모델을 나타냅니다); 파라미터의 공간을 너머 최소화 됩니다. $H(p,q)$ 추정은:<br><br>\n",
    "$$-\\sum_{i=1}^N\\frac{1}{N}\\log(q(y_i\\mid x_i,\\mathrm{parameters}))$$<br>\n",
    "L2-regularization을 포함한 (Adam) gradient descent 를 써서 최소화를 달성합니다: 우리의 prior beliefs는 하이퍼파라미터의 scale과 shape 각각을 위한 정규 분포로 encode합니다. <br><br>"
   ]
  },
  {
   "cell_type": "markdown",
   "metadata": {},
   "source": [
    "이전 방법은 $\\nu$ shape이 상수이거나 점진적으로 $1/x$로 떨어지는 경향(최대값이 0 근처)이 있는 동안, $\\sigma$는 상수이거나 점진적으로 선형 증가하는 경향(최소값이 0 근처)이 있다.<br><br>\n",
    "이런 prior beliefs (정규 분포의 variance로 사전 확률을 모델링)속의 우리 자신감은 검증 셋 측정을 cross-entropy error의 베이지안 최적화를 사용해서 배우게 한다는 것이다. "
   ]
  },
  {
   "cell_type": "code",
   "execution_count": 9,
   "metadata": {},
   "outputs": [],
   "source": [
    "# We compute a vector of log-likelihoods\n",
    "log_likelihoods = model_distribution.log_prob(y_)\n",
    "# the cross_entropy is the mean of the log_likelihoods\n",
    "cross_entropy = -tf.reduce_mean(log_likelihoods)\n",
    "# we optimize via (Adam) gradient descent\n",
    "with tf.variable_scope('training_model'):\n",
    "    model_lr = tf.placeholder(tf.float32)\n",
    "    optimizer = tf.train.AdamOptimizer(model_lr)\n",
    "    # the gradient descent objective incorporates our priors via L2 regularization to compute the MAP\n",
    "    train = optimizer.minimize(cross_entropy\n",
    "                           +tf.reduce_sum(tf.multiply(l2_reg_strength,tf.stack(\n",
    "                [tf.nn.l2_loss(slope_scale),tf.nn.l2_loss(pow_scale-.5),\n",
    "                 tf.nn.l2_loss(slope_shape),tf.nn.l2_loss(pow_shape+.5),\n",
    "                 tf.nn.l2_loss(arg_min_scale),tf.nn.l2_loss(arg_min_shape)]))))"
   ]
  },
  {
   "cell_type": "markdown",
   "metadata": {},
   "source": [
    "우리의 파라미터들을 위해 MAP 추정을 계산할 코드를 써보자. 데이터를 training과 cross validation 셋으로 나누는 걸로 시작해서, training 셋에 gradient descent를 적용해서 MAP 추정을 얻는다, validation 셋을 통해 cross-entropy 추정을 돌려준다.<br>\n",
    "\n",
    "Note : validation 셋과 training에 non-testing 데이터를 랜덤하게 나눠서 넣습니다; 우리는 validation 셋을 측정하는 cross-entropy error의 평균과 분산 추정을 위해 implicitly bootstrapping함.<br>"
   ]
  },
  {
   "cell_type": "code",
   "execution_count": 10,
   "metadata": {},
   "outputs": [],
   "source": [
    "def train_model(l2_reg_strength_val,num_steps=1000,verbose=False,learning_rate=0.05):\n",
    "    # First we initialize the variables in the model and the training optimizer:\n",
    "#     model_variables = tf.get_collection(tf.GraphKeys.VARIABLES, scope='model')\n",
    "    model_variables = tf.get_collection(tf.GraphKeys.GLOBAL_VARIABLES, scope='model')\n",
    "    tf.variables_initializer(model_variables).run()\n",
    "    training_variables = tf.get_collection(tf.GraphKeys.GLOBAL_VARIABLES, scope='training_model')\n",
    "    tf.variables_initializer(training_variables).run()\n",
    "    # Next we split the training/validation data:\n",
    "    train_data,valid_data = train_and_valid_set_split()\n",
    "    for step in range(num_steps+1):\n",
    "        training_loss,_ = sess.run([cross_entropy,train],\n",
    "                                   {x:train_data[:,0],\n",
    "                                    y_:train_data[:,1],\n",
    "                                    l2_reg_strength:l2_reg_strength_val,\n",
    "                                   model_lr:learning_rate})\n",
    "        if verbose and step % 100 == 0:\n",
    "            print(\"step: %d, loss: %.3f, a: %.4f, b: %.4f, min scale: %.4f, scale rate of change: %.4f, \\n \\\n",
    "                     min shape: %.4f shape rate of change: %.2f\"\n",
    "                  %(step,training_loss, a.eval(), b.eval(),\n",
    "                    tf.exp(log_bias_scale).eval(),tf.abs(slope_scale).eval(),\n",
    "                    tf.exp(log_bias_shape).eval(),tf.abs(slope_shape).eval()))\n",
    "        \n",
    "    return cross_entropy.eval({x:valid_data[:,0],y_:valid_data[:,1]})"
   ]
  },
  {
   "cell_type": "markdown",
   "metadata": {},
   "source": [
    "resulting model plot을 위한 도우미 함수를 또 소개해 봅니다. $y=ax+b$ 선은 파란색이고, 확률 밀도(probability density)는 녹색, standard deviation($\\nu>2$일때 정의되는)은 보라색입니다."
   ]
  },
  {
   "cell_type": "code",
   "execution_count": 11,
   "metadata": {},
   "outputs": [],
   "source": [
    "def plot_model(ylim=None):\n",
    "    x_step_size=(x_max-x_min)/20.\n",
    "    y_step_size=(y_max-y_min)/20.\n",
    "    x_grid = np.arange(x_min,x_max,x_step_size)\n",
    "    y_grid = np.arange(y_min,y_max,y_step_size)\n",
    "    fig, ax = plt.subplots()\n",
    "    \n",
    "    # Plot the predicted probability density\n",
    "    X,Y = np.meshgrid(x_grid, y_grid)\n",
    "    Z = np.exp(log_likelihoods.eval({x:X.reshape(-1),y_:Y.reshape(-1)})).reshape(len(x_grid),len(y_grid))\n",
    "    ax.contourf(X,Y,Z,cmap='YlGn')\n",
    "    ax.autoscale(False)\n",
    "    \n",
    "    # plot the predicted mode\n",
    "    ax.plot(x_grid,a.eval()*x_grid+b.eval(),linewidth=2)\n",
    "    \n",
    "    # plot the standard deviation\n",
    "    # first, restrict to where it's defined\n",
    "    x_std_dev_defined = x_grid[shape.eval({x:x_grid})>2]\n",
    "    # then compute the standard deviation\n",
    "    std_dev = (scale*tf.sqrt((shape/(shape-2.)))).eval({x:x_std_dev_defined})\n",
    "    # now plot it\n",
    "    ax.plot(x_std_dev_defined,a.eval()*x_std_dev_defined+b.eval()+std_dev,'purple')\n",
    "    ax.plot(x_std_dev_defined,a.eval()*x_std_dev_defined+b.eval()-std_dev,'purple')\n",
    "    \n",
    "    #plot the data\n",
    "    ax.plot(data[:,0],data[:,1],'ro')\n",
    "    if ylim is not None:\n",
    "        ax.set_ylim(ylim)\n",
    "    plt.show()"
   ]
  },
  {
   "cell_type": "markdown",
   "metadata": {},
   "source": [
    "오케이, 텐서플로 세션(test하고 training하는 알고리즘)을 시작하죠:"
   ]
  },
  {
   "cell_type": "code",
   "execution_count": 12,
   "metadata": {},
   "outputs": [
    {
     "name": "stdout",
     "output_type": "stream",
     "text": [
      "step: 0, loss: 20.601, a: 0.0500, b: 0.0461, min scale: 0.9512, scale rate of change: 0.9500, \n",
      "                      min shape: 1.0513 shape rate of change: 0.95\n",
      "step: 100, loss: 11.967, a: 0.0601, b: 0.0212, min scale: 0.9835, scale rate of change: 0.6953, \n",
      "                      min shape: 2.0661 shape rate of change: 0.18\n",
      "step: 200, loss: 19.871, a: -0.2362, b: -0.1928, min scale: 1.4287, scale rate of change: 0.8315, \n",
      "                      min shape: 1.6959 shape rate of change: 0.03\n",
      "step: 300, loss: 13.456, a: -0.2889, b: -0.0756, min scale: 1.4435, scale rate of change: 0.5106, \n",
      "                      min shape: 2.8570 shape rate of change: 0.17\n",
      "step: 400, loss: 13.021, a: -0.1856, b: 0.3255, min scale: 1.4074, scale rate of change: 0.4659, \n",
      "                      min shape: 2.8967 shape rate of change: 0.20\n",
      "step: 500, loss: 15.099, a: 0.1585, b: 0.9392, min scale: 1.6003, scale rate of change: 0.7286, \n",
      "                      min shape: 2.8866 shape rate of change: 0.19\n",
      "step: 600, loss: 9.710, a: -0.0040, b: 0.5591, min scale: 1.3895, scale rate of change: 0.6121, \n",
      "                      min shape: 2.9115 shape rate of change: 0.21\n",
      "step: 700, loss: 14.223, a: -0.6205, b: 0.0565, min scale: 2.8718, scale rate of change: 0.4452, \n",
      "                      min shape: 3.0086 shape rate of change: 0.28\n",
      "step: 800, loss: 14.154, a: -0.5832, b: 0.3088, min scale: 2.8522, scale rate of change: 0.4616, \n",
      "                      min shape: 3.1336 shape rate of change: 0.32\n",
      "step: 900, loss: 14.075, a: -0.5393, b: 0.5889, min scale: 2.8346, scale rate of change: 0.4503, \n",
      "                      min shape: 3.1956 shape rate of change: 0.34\n",
      "step: 1000, loss: 13.974, a: -0.4871, b: 0.8974, min scale: 2.8119, scale rate of change: 0.4355, \n",
      "                      min shape: 3.2363 shape rate of change: 0.35\n",
      "------------------------------\n",
      " validation-cross-entropy estimate: 13.972520\n"
     ]
    },
    {
     "data": {
      "image/png": "[encoded data removed]",
      "text/plain": [
       "<matplotlib.figure.Figure at 0x2663d30fe80>"
      ]
     },
     "metadata": {},
     "output_type": "display_data"
    }
   ],
   "source": [
    "sess = tf.InteractiveSession()\n",
    "print(\"-\"*30+\"\\n validation-cross-entropy estimate: %f\"\n",
    "      %train_model(l2_reg_strength_val = [0.0,0.0,0.0,0.0,0.0,0.0],num_steps=1000,verbose=True))\n",
    "plot_model(ylim=[-10,20])"
   ]
  },
  {
   "cell_type": "markdown",
   "metadata": {},
   "source": [
    "---------------"
   ]
  },
  {
   "cell_type": "markdown",
   "metadata": {},
   "source": [
    "gradient descent는 validation-cross-entropy 추정의 합당한 추정을 위한 500번 이후, 충분히 수렴되는 경향이 있다. 이제 우리는 validation-cross-entropy 추정을 최소화해서 하이퍼파라미터들 추정을 해야한다. 이를 위한 몇가지 방법이 있다.<br>\n",
    "- 하이퍼 파라미터들을 grid search 한다.<br>\n",
    "- 하이퍼 파라미터들을 random search 한다.<br>\n",
    "- validation-cross-entropy (Nelder-Mead를 통한다 할 수 있는)를 수치적으로 최적화한다.<br>\n",
    "- Bayesian 최적화를 한다.<br>\n",
    "\n",
    "우리는 Bayesian 최적화 과정의 윤곽이 나타난 https://arxiv.org/pdf/1206.2944.pdf 의 간단한 버전을 사용한다.<br>"
   ]
  },
  {
   "cell_type": "markdown",
   "metadata": {},
   "source": [
    "더 세부적으로, (하이퍼 파라미터들의) 가우시안 프로세스처럼 validation-cross-entropy를 모델링할거다. 가우시안 프로세스를 모델하기 위해, 평균을 계산하는 도우미 함수를 소개한다 (단순화를 위해 분산(variance)은 무시한다): kernel $k(x,x')$, 샘플된 값 $\\{y_i\\}$와 샘플된 포인트 $\\{x_i\\}$를 주면, 평균은<br><br>\n",
    "$$\\mu(x):=k(x,x_i)k_{ij}^{-1}y_j,$$<br>\n",
    "\n",
    "$k_{ij}=k(x_i,x_j)$ entries를 가진 매트릭스 $k_{ij}$에서."
   ]
  },
  {
   "cell_type": "code",
   "execution_count": 13,
   "metadata": {},
   "outputs": [],
   "source": [
    "# new_points is assumed to be a list of points\n",
    "def GP_mean(kernel,GP_sampled_x,GP_sampled_y,new_points):\n",
    "    # First compute the sample mean:\n",
    "    sampled_mean_y=tf.reduce_mean(GP_sampled_y,0)\n",
    "    \n",
    "    inv_cov_matrix = tf.matrix_inverse(kernel(GP_sampled_x,GP_sampled_x))\n",
    "    # reshape the the sample values into matrices:\n",
    "    GP_sampled_y_reshaped = tf.reshape(GP_sampled_y,[-1,1])\n",
    "    # return the expected mean\n",
    "    return sampled_mean_y + tf.matmul(kernel(new_points,GP_sampled_x),\n",
    "                             tf.matmul(inv_cov_matrix,GP_sampled_y_reshaped-sampled_mean_y))"
   ]
  },
  {
   "cell_type": "markdown",
   "metadata": {},
   "source": [
    "공분산을 계산하기 위한 두번째 도우미 함수를 소개한다. 세부적으로 공분산 매트릭스(covariance matrix)는:<br><br>\n",
    "$$\\Sigma(x):=k(x,x)-k(x,x_i)k_{ij}^{-1}k(x_j,x)$$\n"
   ]
  },
  {
   "cell_type": "code",
   "execution_count": 14,
   "metadata": {},
   "outputs": [],
   "source": [
    "def GP_cov(kernel,GP_sampled_x,new_points):\n",
    "    inv_cov_matrix = tf.matrix_inverse(kernel(GP_sampled_x,GP_sampled_x))\n",
    "    k=kernel(GP_sampled_x,new_points)\n",
    "    return kernel(new_points,new_points)-tf.matmul(tf.transpose(k),tf.matmul(inv_cov_matrix,k))"
   ]
  },
  {
   "cell_type": "markdown",
   "metadata": {},
   "source": [
    "가우시안 프로세스로 validation-cross-entropy error를 모델링한다. 만약 $\\epsilon_{min}$가 validation-cross-entropy error의 현재 최소 샘플된 값이고, 만약 새로운 포인트 $x_{new}$에서 샘플하면, $$\\epsilon_{min}-\\mu(x_{new}).$$<br>로 validation-cross-entropy 샘플된 값은 줄어들거라 예상할 수 있다.<br><br>\n",
    "**기대 개선(expected improvement)**  함수는 아래처럼 정의된다.<br><br>\n",
    "$$a_{EI}(x_{new})=\\mathbb{E}[\\operatorname{max}(\\epsilon_{min}-\\mu(x_{new}),0)],$$<br>\n",
    "\n",
    "이를 최대화하는 포인트 $x_{new}$에서의 샘플을 원한다. 이어지는 코드는 cross-entropy error (validation 셋을 측정한)를 위한 현재의 가우시안 프로세스 모델이 주어졌을 때, 기대 개선을 계산하는 함수 ```GP_expected_improv```를 위한 것이다.<br>"
   ]
  },
  {
   "cell_type": "code",
   "execution_count": 15,
   "metadata": {},
   "outputs": [],
   "source": [
    "# new_points is a (num_points,amb_dim) shape matrix of prospective points at which to\n",
    "# measure the cross-entropy (on the validation set)\n",
    "\n",
    "def GP_expected_improv(kernel,GP_sampled_x,GP_sampled_y,new_points):\n",
    "    # compute the mean of the gaussian process at new_points\n",
    "    mu = tf.reshape(GP_mean(kernel,GP_sampled_x,GP_sampled_y,new_points),[-1])\n",
    "    # compute the standard deviation across those new_points\n",
    "    sigma = tf.diag_part(GP_cov(kernel,GP_sampled_x,new_points))\n",
    "    # check that the standard deviation is positive (and fill in a dummy value of 1 otherwise)\n",
    "    non_zero_variance = tf.greater(sigma, 0., name=\"variance_Control_Op\")\n",
    "    sigma_safe = tf.where(non_zero_variance,sigma,tf.tile(tf.constant([1.]),tf.shape(sigma)))\n",
    "    # model our expected cross-entropy at those new points using the gaussian process\n",
    "    normal_distribution = dist.Normal(loc = mu, scale = sigma_safe)\n",
    "    # compare our model with the current minimum\n",
    "    min_sampled_y = tf.reshape(tf.reduce_min(GP_sampled_y),[-1])\n",
    "    # compute the expected value of max(min_sampled_y - mu)\n",
    "    result = (min_sampled_y-mu)*normal_distribution.cdf(min_sampled_y)+sigma*normal_distribution.prob(min_sampled_y)\n",
    "    return tf.where(non_zero_variance,result,tf.tile(tf.constant([0.]),tf.shape(non_zero_variance)))\n",
    "\n",
    "# the ``probability of improvement'' is computed with the following code, but we found it to be less effective.\n",
    "\n",
    "def GP_log_prob_of_improv(kernel,GP_sampled_x,GP_sampled_y,new_points):\n",
    "    mu = tf.reshape(GP_mean(kernel,GP_sampled_x,GP_sampled_y,new_points),[-1])\n",
    "    sigma = tf.diag_part(GP_cov(kernel,GP_sampled_x,new_points))\n",
    "    non_zero_variance = tf.greater(sigma, 0., name=\"variance_Control_Op\")\n",
    "    sigma_safe = tf.where(non_zero_variance,sigma,tf.tile(tf.constant([1.]),tf.shape(sigma)))\n",
    "    normal_distribution = dist.Normal(loc = mu, scale = sigma_safe)\n",
    "    min_sampled_y = tf.reshape(tf.reduce_min(GP_sampled_y),[-1])\n",
    "    return tf.where(non_zero_variance,\n",
    "                    normal_distribution.log_cdf(min_sampled_y),\n",
    "                    tf.tile(tf.constant([0.]),tf.shape(non_zero_variance)))\n",
    "    "
   ]
  },
  {
   "cell_type": "markdown",
   "metadata": {},
   "source": [
    " https://arxiv.org/pdf/1206.2944.pdf 에서 소개된, 가우시안 프로세스를 위한 5/2 maternal kernel를 사용한다:<br><br>\n",
    "$$k(x,y)=\\theta_0\\bigg(1+\\sqrt{5 r^2(x,y)}+\\frac{5}{3}r^2(x,y)\\bigg)e^{-\\sqrt{5 r^2(x,y)}}+\\sigma_0^2\\delta(x,y),$$<br>\n",
    "$r(x,y)$는 $x$와 $y$ 사이의 거리이다. 거리 함수 $r(x,y)$ 또한 길이 크기의 파라미터들을 갖고 있는 동안, kernel은 $\\sigma_0$ (샘플 noise), $\\theta_0$ (kernel 크기) 파라미터들을 갖고 있다. 적용은 아래와 같다<br>"
   ]
  },
  {
   "cell_type": "code",
   "execution_count": 16,
   "metadata": {},
   "outputs": [],
   "source": [
    "# Both points_1 and points_2 are assumed to be numpy arrays of shape (num_points_1,amb_dim) and (num_points_2,amb_dim)\n",
    "# these functions return matrices of shape (num_points_1,num_points_2) whose entries are the values of the matern kernel\n",
    "# on the corresponding pair of points.\n",
    "# length_scale is assumed to be of shape (amb_dim).\n",
    "\n",
    "\n",
    "def matern_kernel(points_1,points_2,log_length_scale,log_sample_noise = None,log_kernel_scale=0.):\n",
    "    # First we compute the distances:\n",
    "    distances_squared = distances_squared_matrix(points_1,points_2,log_length_scale)\n",
    "    noise_shift = 0\n",
    "    if points_1 == points_2:\n",
    "        # make sure the diagonal consists of zeros to compute the square root safely\n",
    "        distances_squared = zeros_diag(distances_squared)\n",
    "        if log_sample_noise != None:\n",
    "            # add intrisic sampling noise; it is essential that we include this since we are bootstrapping.\n",
    "            noise_shift = tf.diag(tf.tile([tf.exp(log_sample_noise)],[tf.shape(points_1)[0]]))\n",
    "    distances = tf.sqrt(distances_squared)\n",
    "    \n",
    "    return tf.exp(log_kernel_scale)*(1+sqrt_5*distances + 5*distances_squared/3.) \\\n",
    "            *tf.exp(-sqrt_5*distances) + noise_shift\n",
    "\n",
    "def gaussian_kernel(points_1,points_2,log_length_scale,log_sample_noise = None,log_kernel_scale=0.):\n",
    "    # First we compute the distances:\n",
    "    distances_squared = distances_squared_matrix(points_1,points_2,log_length_scale)\n",
    "    if log_sample_noise != None and points_1 == points_2:\n",
    "        # make sure the diagonal consists of zeros to compute the square root safely\n",
    "        distances_squared = zeros_diag(distances_squared)\n",
    "        # add intrisic sampling noise.\n",
    "        noise_shift = tf.diag(tf.tile([tf.exp(log_sample_noise)],[tf.shape(points_1)[0]]))\n",
    "    else: noise_shift=0\n",
    "    return tf.exp(log_kernel_scale)*tf.exp(-distances_squared) + noise_shift\n",
    "\n",
    "# Here is the a helper distance function:\n",
    "def distances_squared_matrix(points_1,points_2,log_length_scale):\n",
    "    # First we rescale the points\n",
    "    inv_scale=tf.exp(-tf.reshape((log_length_scale),[1,-1]))\n",
    "    res_points_1=tf.multiply(points_1,inv_scale)\n",
    "    res_points_2=tf.multiply(points_2,inv_scale)\n",
    "    # Next we compute the distances,\n",
    "    # we are using the formula (x-y)(x-y) = x^2-2xy+y^2\n",
    "    Radial_dist_1=tf.reduce_sum(tf.multiply(res_points_1,res_points_1),1,keep_dims=True)\n",
    "    Radial_dist_2=tf.reduce_sum(tf.multiply(res_points_2,res_points_2),1,keep_dims=True)\n",
    "    distances_squared = Radial_dist_1-2*tf.matmul(res_points_1,tf.transpose(res_points_2))+tf.transpose(Radial_dist_2)\n",
    "    return distances_squared\n",
    "\n",
    "# We need a numerically stable means to compute the log-determinant of a matrix when fitting the Gaussian process.\n",
    "def log_determinant_for_PD_matrices(tensor):\n",
    "    # first compute the cholesky decomposition M=R*R^T\n",
    "    cholesy_root = tf.cholesky(tensor)\n",
    "    # now det(M)=det(R)^2=(Prod diag_entries(R))^2\n",
    "    # so log(det(M))=2*sum(log(diag_entries(R)))\n",
    "    return 2*tf.reduce_sum(tf.log(tf.diag_part(cholesy_root)))\n",
    "\n",
    "# we need the following to guarantee numerical stability...\n",
    "def zeros_diag(matrix):\n",
    "    # create a matrix with True along diagonal and False elsewhere (to be used as a mask)\n",
    "    mask = tf.cast(tf.diag(tf.tile(tf.constant([1]),[tf.shape(matrix)[0]])),tf.bool)\n",
    "    # create a zero matrix:\n",
    "    zeros = tf.diag(tf.tile(tf.constant([0.]),[tf.shape(matrix)[0]]))\n",
    "    \n",
    "    return tf.where(mask,zeros,matrix)"
   ]
  },
  {
   "cell_type": "markdown",
   "metadata": {},
   "source": [
    "이제 kernel 파라미터와 kernel 연결을 위한 텐서플로 변수들을 소개한다."
   ]
  },
  {
   "cell_type": "code",
   "execution_count": 17,
   "metadata": {},
   "outputs": [],
   "source": [
    "with tf.variable_scope('GP'):\n",
    "    # Parameters for the Gaussian process\n",
    "    GP_log_length_scale = tf.tile(tf.Variable(tf.constant([1.])),[hyper_param_dim])\n",
    "    GP_log_sample_noise = tf.Variable(tf.constant(0.))\n",
    "    GP_log_kernel_scale = tf.Variable(tf.constant(0.))\n",
    "GP_kernel = lambda l2x,l2y:matern_kernel(l2x,l2y,GP_log_length_scale,GP_log_sample_noise,GP_log_kernel_scale)"
   ]
  },
  {
   "cell_type": "markdown",
   "metadata": {},
   "source": [
    "$\\{x_i\\}$ 포인트에서 샘플 값 $\\{y_i\\}$의 array들의 가우시안 프로세스를 fit하는 코드를 적어보자. 첫번째로, 샘플 포인트들과 값들을 저장하는 placeholder들을 소개한다. 그리고 그들을 연결해서 새로운 점에서 우리의 함수는 평균과 공분산을 계산 한다.<br>"
   ]
  },
  {
   "cell_type": "code",
   "execution_count": 18,
   "metadata": {},
   "outputs": [],
   "source": [
    "with tf.variable_scope('GP'):\n",
    "    # Place holders for the sampled points and values.\n",
    "    GP_sampled_x = tf.placeholder(tf.float32,shape = [None,hyper_param_dim])\n",
    "    GP_sampled_y = tf.placeholder(tf.float32,shape = [None])\n",
    "    # Placeholder for a new point at which to evaluate the gaussian process model.\n",
    "    GP_new_x = tf.placeholder(tf.float32,shape = [None,hyper_param_dim])\n",
    "    \n",
    "GP_mean_func = GP_mean(GP_kernel,GP_sampled_x,GP_sampled_y,GP_new_x)\n",
    "GP_cov_func = GP_cov(GP_kernel,GP_sampled_x,GP_new_x)\n",
    "#GP_prob_of_improv_func = tf.exp(GP_log_prob_of_improv(GP_kernel,GP_sampled_x,GP_sampled_y,GP_new_x))"
   ]
  },
  {
   "cell_type": "markdown",
   "metadata": {},
   "source": [
    "파라미터들을 위한 maximum likelihood estimate를 사용한 포인트 $\\{x_i\\}$에서 샘플된 값 $\\{y_i\\}$의 array에 가우시안 프로세스를 fit한다. 예시로<br><br> $$-\\log N(\\{y_i-\\bar y\\},0, k_{ij})=(y_i-\\bar y)k_{ij}^{-1}(y_j-\\bar y)+\\log\\operatorname{det}(k_{ij})+\\mathrm{Const.}$$<br>를 최대화한다. $\\bar y$는 샘플된 값들의 평균이고, 공분산 행렬(covariance matrix) $k_{ij}$는 $k_{ij}=k(x_i,x_j)$ entries를 갖고 있다. "
   ]
  },
  {
   "cell_type": "code",
   "execution_count": 19,
   "metadata": {},
   "outputs": [],
   "source": [
    "# GP_cov_matrix is the matrix k_{ij}\n",
    "GP_cov_matrix = GP_kernel(GP_sampled_x,GP_sampled_x)\n",
    "# GP_cov_matrix_inv is it's inverse\n",
    "GP_cov_matrix_inv = tf.matrix_inverse(GP_cov_matrix)\n",
    "\n",
    "# GP_mean_zero_sampled_y is the vector {y_i-\\bar y}, with mean zero.\n",
    "GP_mean_zero_sampled_y= tf.reshape((GP_sampled_y-tf.reduce_mean(GP_sampled_y)),[-1,1])\n",
    "GP_log_likelihood = tf.matmul(tf.matmul(tf.transpose(GP_mean_zero_sampled_y),GP_cov_matrix_inv),GP_mean_zero_sampled_y) \\\n",
    "                        + log_determinant_for_PD_matrices(GP_cov_matrix)\\\n",
    "                        + 0.5*tf.log(2*pi)*tf.to_float(tf.shape(GP_sampled_y)[0])\n",
    "with tf.variable_scope('GP'):\n",
    "    GP_optimizer = tf.train.AdamOptimizer(.05)\n",
    "    GP_train = GP_optimizer.minimize(GP_log_likelihood)\n",
    "def fit_GP(sampled_x, sampled_y, verbose = False):\n",
    "    model_variables = tf.get_collection(tf.GraphKeys.GLOBAL_VARIABLES, scope='GP')\n",
    "    tf.variables_initializer(model_variables).run()\n",
    "    for i in range(500):\n",
    "        loss, _ = sess.run([GP_log_likelihood,GP_train],\n",
    "                           {GP_sampled_x:sampled_x,\n",
    "                           GP_sampled_y:sampled_y})\n",
    "        if verbose and i % 50 == 0:\n",
    "            print(\"step: %d, loss: %.4f\"%(i,loss))\n",
    "            print(\"length scale: %.3f, Sample Noise: %.3f, Kernel Scale: %f\"%\n",
    "                  (tf.exp(GP_log_length_scale).eval()[0],\n",
    "                   tf.exp(GP_log_sample_noise).eval(),\n",
    "                   tf.exp(GP_log_kernel_scale).eval()))"
   ]
  },
  {
   "cell_type": "markdown",
   "metadata": {},
   "source": [
    "가우시안 프로세스 모델을 보기 위한 도우미 함수를 적어봅시다. 이 함수는 지금 다룰 문제의 세부사항입니다. (우리는 수평과 수직의 축으로 보일 수 있는 선형 회귀 모델의 shape과 scale에 반응하는 2개의 하이퍼파라미터를 갖고 있다)<br>"
   ]
  },
  {
   "cell_type": "code",
   "execution_count": 20,
   "metadata": {},
   "outputs": [],
   "source": [
    "l2_step_size = (l2_reg_max-l2_reg_min)/20.\n",
    "def plot_GP_model(sampled_x,sampled_y):\n",
    "    x_rescale = max(tf.exp(-GP_log_length_scale).eval()[0],1.)\n",
    "    y_rescale = max(tf.exp(-GP_log_length_scale).eval()[1],1.)\n",
    "    log_l2_scale_grid = np.arange(x_rescale*(l2_reg_min-5*l2_step_size),\n",
    "                                  x_rescale*(l2_reg_max+5*l2_step_size),x_rescale*l2_step_size)\n",
    "    log_l2_shape_grid = np.arange(y_rescale*(l2_reg_min-5*l2_step_size),\n",
    "                                  y_rescale*(l2_reg_max+5*l2_step_size),y_rescale*l2_step_size)\n",
    "    # Make a grid of points\n",
    "    X,Y = np.meshgrid(log_l2_scale_grid, log_l2_shape_grid) # grid of points\n",
    "    min_index=np.argmin(sampled_y)\n",
    "    hidden0,hidden1 = sampled_x[min_index,0],sampled_x[min_index,1]\n",
    "    hidden2,hidden3 = sampled_x[min_index,2],sampled_x[min_index,3]\n",
    "    hidden4,hidden5 = sampled_x[min_index,4],sampled_x[min_index,5]\n",
    "    X_Y1_zip=list(zip(X.reshape(-1),Y.reshape(-1),\n",
    "                      [hidden2]*X.size,[hidden3]*X.size,[hidden4]*X.size,[hidden5]*X.size))\n",
    "    X_Y2_zip=list(zip([hidden0]*X.size,[hidden1]*X.size,X.reshape(-1),Y.reshape(-1),\n",
    "                      [hidden4]*X.size,[hidden5]*X.size))\n",
    "    # Compute the expected value of the Gaussian process on that grid\n",
    "    Z1 = GP_mean_func.eval({GP_sampled_x:sampled_x,\n",
    "                           GP_sampled_y:sampled_y,\n",
    "                            GP_new_x:X_Y1_zip})\n",
    "    Z1 = np.exp(Z1.reshape(len(log_l2_scale_grid),len(log_l2_shape_grid)))\n",
    "    Z2 = GP_mean_func.eval({GP_sampled_x:sampled_x,\n",
    "                                    GP_sampled_y:sampled_y,\n",
    "                                    GP_new_x:X_Y2_zip})\n",
    "    Z2 = Z2.reshape(len(log_l2_scale_grid),len(log_l2_shape_grid)) \n",
    "\n",
    "    # adding the Contour lines with labels: First find limits for the plot:\n",
    "    fig, (ax1, ax2) = plt.subplots(1,2,figsize=(12,4))\n",
    "    ax1.set_title('Expected loss\\n on validation set')\n",
    "    ax1.set_xlabel('scale slope hyperparameter')\n",
    "    ax1.set_ylabel('scale power hyperparameter')\n",
    "    ax2.set_title('Expected loss\\n on validation set')\n",
    "    ax2.set_xlabel('shape slope hyperparameter')\n",
    "    ax2.set_ylabel('shape power hyperparameter')\n",
    "\n",
    "    # Next add the color-heights\n",
    "    im1 = ax1.contourf(X, Y, Z1, 8, alpha=.75, cmap='jet')\n",
    "    plt.colorbar(im1,ax=ax1) # adding the colorbar on the right\n",
    "    im2 = ax2.contourf(X, Y, Z2, 8, alpha=.75, cmap='jet')\n",
    "    plt.colorbar(im2,ax=ax2) # adding the colorbar on the right\n",
    "    ax2.autoscale(False) # To avoid that the scatter changes limits\n",
    "\n",
    "    # Next add contours to the plot of the mean:\n",
    "    cset1 = ax1.contour(X, Y, Z1, 4, colors='black', linewidth=.5)\n",
    "    ax1.clabel(cset1,inline=True,fmt='%1.1f',fontsize=10)\n",
    "    ax1.autoscale(False) # To avoid that the scatter changes limits\n",
    "    cset2 = ax2.contour(X, Y, Z2, 4, colors='black', linewidth=.5)\n",
    "    ax2.clabel(cset2,inline=True,fmt='%1.1f',fontsize=10)\n",
    "    ax2.autoscale(False) # To avoid that the scatter changes limits\n",
    "\n",
    "    # Now plot the sampled points\n",
    "    ax1.scatter(sampled_x[:,0],sampled_x[:,1])\n",
    "    ax2.scatter(sampled_x[:,0],sampled_x[:,1])\n",
    "\n",
    "    plt.show()"
   ]
  },
  {
   "cell_type": "markdown",
   "metadata": {},
   "source": [
    "하이퍼파라미터를 위한 몇몇 초기화 값 $\\{x_i\\}$를 랜덤하게 선택하자. 그리고 이런 하이퍼파라미터들로 initialize한 선형 회귀 모델의 validation-cross-entropy error 추정 $\\{y_i\\}$ 값들을 위해 가우시안 프로세스를 fit한다.<br>\n",
    "\n",
    "Note: 하이퍼파라미터들과 거기에 반응한 validation-cross-entropy error 추정들이 모두 non-negative인 이래, 사실 우리는 그들의 log를 위한 가우시안 프로세스를 fit하는 것이다.<br>"
   ]
  },
  {
   "cell_type": "code",
   "execution_count": 21,
   "metadata": {
    "scrolled": true
   },
   "outputs": [
    {
     "data": {
      "application/vnd.jupyter.widget-view+json": {
       "model_id": "82e586b0725b43609ea12cea0c8e52ec",
       "version_major": 2,
       "version_minor": 0
      },
      "text/html": [
       "<p>Failed to display Jupyter Widget of type <code>FloatProgress</code>.</p>\n",
       "<p>\n",
       "  If you're reading this message in the Jupyter Notebook or JupyterLab Notebook, it may mean\n",
       "  that the widgets JavaScript is still loading. If this message persists, it\n",
       "  likely means that the widgets JavaScript library is either not installed or\n",
       "  not enabled. See the <a href=\"https://ipywidgets.readthedocs.io/en/stable/user_install.html\">Jupyter\n",
       "  Widgets Documentation</a> for setup instructions.\n",
       "</p>\n",
       "<p>\n",
       "  If you're reading this message in another frontend (for example, a static\n",
       "  rendering on GitHub or <a href=\"https://nbviewer.jupyter.org/\">NBViewer</a>),\n",
       "  it may mean that your frontend doesn't currently support widgets.\n",
       "</p>\n"
      ],
      "text/plain": [
       "FloatProgress(value=0.0, max=4.0)"
      ]
     },
     "metadata": {},
     "output_type": "display_data"
    },
    {
     "name": "stdout",
     "output_type": "stream",
     "text": [
      "step: 0, loss: 8.1433\n",
      "length scale: 2.718, Sample Noise: 0.951, Kernel Scale: 0.951229\n",
      "step: 50, loss: -3.2636\n",
      "length scale: 2.713, Sample Noise: 0.082, Kernel Scale: 0.081670\n",
      "step: 100, loss: -7.4388\n",
      "length scale: 2.661, Sample Noise: 0.017, Kernel Scale: 0.016510\n",
      "step: 150, loss: -7.4388\n",
      "length scale: 2.585, Sample Noise: 0.017, Kernel Scale: 0.016676\n",
      "step: 200, loss: -7.4389\n",
      "length scale: 2.541, Sample Noise: 0.017, Kernel Scale: 0.016562\n",
      "step: 250, loss: -7.4389\n",
      "length scale: 2.510, Sample Noise: 0.017, Kernel Scale: 0.016575\n",
      "step: 300, loss: -7.4389\n",
      "length scale: 2.486, Sample Noise: 0.017, Kernel Scale: 0.016575\n",
      "step: 350, loss: -7.4389\n",
      "length scale: 2.466, Sample Noise: 0.017, Kernel Scale: 0.016575\n",
      "step: 400, loss: -7.4389\n",
      "length scale: 2.449, Sample Noise: 0.017, Kernel Scale: 0.016575\n",
      "step: 450, loss: -7.4389\n",
      "length scale: 2.435, Sample Noise: 0.017, Kernel Scale: 0.016575\n"
     ]
    },
    {
     "data": {
      "image/png": "[encoded data removed]",
      "text/plain": [
       "<matplotlib.figure.Figure at 0x26664bb2c50>"
      ]
     },
     "metadata": {},
     "output_type": "display_data"
    }
   ],
   "source": [
    "log_sample_points = np.random.uniform(low=l2_reg_min,high=l2_reg_max,\n",
    "                                      size=[initial_GP_test_points,hyper_param_dim]).astype(np.float32)\n",
    "sample_points = np.exp(log_sample_points)\n",
    "\n",
    "\n",
    "f = FloatProgress(min=0, max=initial_GP_test_points-1)\n",
    "display(f)\n",
    "sample_values = []\n",
    "for i in range(initial_GP_test_points):\n",
    "    f.value = i\n",
    "    sample_values += [train_model(l2_reg_strength_val = sample_points[i,:],num_steps=500,learning_rate=.1)]\n",
    "log_sample_values = np.log(sample_values)\n",
    "\n",
    "fit_GP(log_sample_points, log_sample_values, verbose = True)\n",
    "plot_GP_model(log_sample_points,log_sample_values)"
   ]
  },
  {
   "cell_type": "markdown",
   "metadata": {},
   "source": [
    "다음 validation-cross-entropy error 샘플을 위한 하이퍼 파라미터 선택을 가우시안 프로세스 모델을 사용해서 결정할거다.<br><br>"
   ]
  },
  {
   "cell_type": "markdown",
   "metadata": {},
   "source": [
    "더 세부적으로, 우리는 우리 모델을 위해 기대 개선(expected improvement)을 최대화하는 $a_{EI}(x_{test})$에서 $x_{test}$ 포인트를 찾으려고 노력할거다. 그 포인트에서의 validation-cross-entropy-error 샘플도.<br><br>\n",
    "\n",
    "gradient descent가 상대적으로 계산비용이 저렴하니, 변수 분리를 위한 $n=$ ```max_feelers```, 그리고 (logarithm) of ```GP_expected_improv```를 최소화하기 위해 gradient descent를 실행한다. 그리고 $x_{new}$ 최고의 결과를 선택할거임 <br><br>"
   ]
  },
  {
   "cell_type": "code",
   "execution_count": 22,
   "metadata": {},
   "outputs": [],
   "source": [
    "with tf.variable_scope('GP-test-point-finder'):\n",
    "    test_point_list=[]\n",
    "    for i in range(max_feelers):\n",
    "        test_point_list += [tf.Variable(tf.random_uniform([hyper_param_dim],l2_reg_min,l2_reg_max))]\n",
    "    # our test point is randomly initialized\n",
    "    GP_test_points = tf.stack(test_point_list)\n",
    "    # For the kernel we stop gradients from back-propagating to the length scale and noise estimates.\n",
    "    GP_fixed_kernel = lambda l2x,l2y:matern_kernel(l2x,l2y,\n",
    "                                                     tf.stop_gradient(GP_log_length_scale),\n",
    "                                                     tf.stop_gradient(GP_log_sample_noise),\n",
    "                                                    tf.stop_gradient(GP_log_kernel_scale))\n",
    "    GP_test_point_losses = -GP_expected_improv(GP_fixed_kernel, GP_sampled_x,GP_sampled_y,GP_test_points)\n",
    "    GP_test_point_optimizer = tf.train.AdamOptimizer(.1)\n",
    "    GP_test_point_train = GP_optimizer.minimize(tf.reduce_mean(GP_test_point_losses))"
   ]
  },
  {
   "cell_type": "markdown",
   "metadata": {},
   "source": [
    "오케이, 우리의 모델을 위한 향상된 $a_{PI}(x_{test})$의 확률을 최대화하는 테스트 포인트를 반복적으로 찾아봅시다"
   ]
  },
  {
   "cell_type": "code",
   "execution_count": 23,
   "metadata": {},
   "outputs": [
    {
     "data": {
      "application/vnd.jupyter.widget-view+json": {
       "model_id": "3942f3db860842d3b8a31533c397d5fe",
       "version_major": 2,
       "version_minor": 0
      },
      "text/html": [
       "<p>Failed to display Jupyter Widget of type <code>FloatProgress</code>.</p>\n",
       "<p>\n",
       "  If you're reading this message in the Jupyter Notebook or JupyterLab Notebook, it may mean\n",
       "  that the widgets JavaScript is still loading. If this message persists, it\n",
       "  likely means that the widgets JavaScript library is either not installed or\n",
       "  not enabled. See the <a href=\"https://ipywidgets.readthedocs.io/en/stable/user_install.html\">Jupyter\n",
       "  Widgets Documentation</a> for setup instructions.\n",
       "</p>\n",
       "<p>\n",
       "  If you're reading this message in another frontend (for example, a static\n",
       "  rendering on GitHub or <a href=\"https://nbviewer.jupyter.org/\">NBViewer</a>),\n",
       "  it may mean that your frontend doesn't currently support widgets.\n",
       "</p>\n"
      ],
      "text/plain": [
       "FloatProgress(value=0.0, max=15.0)"
      ]
     },
     "metadata": {},
     "output_type": "display_data"
    },
    {
     "data": {
      "image/png": "[encoded data removed]",
      "text/plain": [
       "<matplotlib.figure.Figure at 0x2664d8c0ef0>"
      ]
     },
     "metadata": {},
     "output_type": "display_data"
    },
    {
     "data": {
      "image/png": "[encoded data removed]",
      "text/plain": [
       "<matplotlib.figure.Figure at 0x266101fc588>"
      ]
     },
     "metadata": {},
     "output_type": "display_data"
    },
    {
     "data": {
      "image/png": "[encoded data removed]",
      "text/plain": [
       "<matplotlib.figure.Figure at 0x266103e3748>"
      ]
     },
     "metadata": {},
     "output_type": "display_data"
    },
    {
     "name": "stderr",
     "output_type": "stream",
     "text": [
      "D:\\ana_conda\\envs\\tf\\lib\\site-packages\\matplotlib\\contour.py:370: RuntimeWarning: invalid value encountered in true_divide\n",
      "  dist = np.add.reduce(([(abs(s)[i] / L[i]) for i in range(xsize)]), -1)\n"
     ]
    },
    {
     "data": {
      "image/png": "[encoded data removed]",
      "text/plain": [
       "<matplotlib.figure.Figure at 0x2660124d710>"
      ]
     },
     "metadata": {},
     "output_type": "display_data"
    }
   ],
   "source": [
    "def find_test_point():\n",
    "#     model_variables = tf.get_collection(tf.GraphKeys.VARIABLES, scope='GP-test-point-finder')\n",
    "    model_variables = tf.get_collection(tf.GraphKeys.GLOBAL_VARIABLES, scope='GP-test-point-finder')\n",
    "    tf.variables_initializer(model_variables).run()\n",
    "    # optimize the probability of improvement:\n",
    "    for j in range(100):\n",
    "        cur_points, losses, _ = sess.run([GP_test_points,GP_test_point_losses,GP_test_point_train],\n",
    "                           {GP_sampled_x:log_sample_points,\n",
    "                           GP_sampled_y:log_sample_values})\n",
    "        for i in range(max_feelers):\n",
    "            if not np.isfinite(cur_points[i]).all():\n",
    "                print('resetting feeler')\n",
    "                tf.variables_initializer([test_point_list[i]]).run()\n",
    "    min_index = np.argmin(losses)\n",
    "    return cur_points[min_index,:]\n",
    "\n",
    "new_tests = total_GP_test_points - initial_GP_test_points+1\n",
    "f = FloatProgress(min=0, max=new_tests-1)\n",
    "display(f)\n",
    "for i in range(new_tests):\n",
    "    f.value = i\n",
    "    test_point = find_test_point()\n",
    "    # print(\"%d'th test at: (%.3f,%.3f)\"%(i,test_point[0],test_point[1]))\n",
    "    if np.isfinite(test_point).all():\n",
    "        # add the test point to our list of sampled points\n",
    "        log_sample_points = np.append(log_sample_points,[test_point],axis = 0)\n",
    "        sample_points = np.append(sample_points,[np.exp(log_sample_points[-1,:])],axis = 0)\n",
    "        # estimate the validation-cross-entropy error at the new test point\n",
    "        sample_values = np.append(sample_values,\n",
    "                                  [train_model(l2_reg_strength_val = sample_points[-1,:],\n",
    "                                               num_steps=500,learning_rate=.1)],\n",
    "                                 axis = 0)\n",
    "        log_sample_values = np.append(log_sample_values,[np.log(sample_values[-1])],axis=0)\n",
    "    else:\n",
    "        print('not finite')\n",
    "    # Fit the Gaussian process model (after every 5 new test points)\n",
    "    if i % 5 == 0:\n",
    "        fit_GP(log_sample_points, log_sample_values)\n",
    "    # display the results (every 20 new points)\n",
    "    if i % 5 == 0:\n",
    "        plot_GP_model(log_sample_points,log_sample_values)\n",
    "    "
   ]
  },
  {
   "cell_type": "markdown",
   "metadata": {},
   "source": [
    "가우시안 프로세스 모델 결과를 사용해 하이퍼 파라미터 최선의 값을 찾아봅시당:"
   ]
  },
  {
   "cell_type": "code",
   "execution_count": 24,
   "metadata": {},
   "outputs": [
    {
     "name": "stdout",
     "output_type": "stream",
     "text": [
      "resetting feeler\n",
      "resetting feeler\n",
      "resetting feeler\n",
      "resetting feeler\n",
      "resetting feeler\n",
      "resetting feeler\n",
      "resetting feeler\n",
      "resetting feeler\n",
      "resetting feeler\n",
      "resetting feeler\n",
      "resetting feeler\n",
      "resetting feeler\n",
      "resetting feeler\n",
      "resetting feeler\n",
      "resetting feeler\n",
      "resetting feeler\n",
      "resetting feeler\n",
      "resetting feeler\n",
      "resetting feeler\n",
      "resetting feeler\n",
      "resetting feeler\n",
      "resetting feeler\n",
      "resetting feeler\n",
      "resetting feeler\n",
      "resetting feeler\n",
      "resetting feeler\n",
      "resetting feeler\n",
      "resetting feeler\n",
      "resetting feeler\n",
      "resetting feeler\n",
      "resetting feeler\n",
      "resetting feeler\n",
      "resetting feeler\n",
      "resetting feeler\n",
      "resetting feeler\n",
      "resetting feeler\n",
      "resetting feeler\n",
      "resetting feeler\n",
      "resetting feeler\n",
      "resetting feeler\n",
      "resetting feeler\n",
      "resetting feeler\n",
      "resetting feeler\n",
      "resetting feeler\n",
      "resetting feeler\n",
      "resetting feeler\n",
      "resetting feeler\n",
      "resetting feeler\n",
      "resetting feeler\n",
      "resetting feeler\n",
      "resetting feeler\n",
      "resetting feeler\n",
      "resetting feeler\n",
      "resetting feeler\n",
      "resetting feeler\n",
      "resetting feeler\n",
      "resetting feeler\n",
      "resetting feeler\n",
      "resetting feeler\n",
      "resetting feeler\n",
      "resetting feeler\n",
      "resetting feeler\n",
      "resetting feeler\n",
      "resetting feeler\n",
      "resetting feeler\n",
      "resetting feeler\n",
      "resetting feeler\n",
      "resetting feeler\n",
      "resetting feeler\n",
      "resetting feeler\n",
      "resetting feeler\n",
      "resetting feeler\n",
      "resetting feeler\n",
      "resetting feeler\n",
      "resetting feeler\n",
      "resetting feeler\n",
      "resetting feeler\n",
      "resetting feeler\n",
      "resetting feeler\n",
      "resetting feeler\n",
      "resetting feeler\n",
      "resetting feeler\n",
      "resetting feeler\n",
      "resetting feeler\n",
      "resetting feeler\n",
      "resetting feeler\n",
      "resetting feeler\n",
      "resetting feeler\n",
      "resetting feeler\n",
      "resetting feeler\n",
      "resetting feeler\n",
      "resetting feeler\n",
      "resetting feeler\n",
      "resetting feeler\n",
      "resetting feeler\n",
      "resetting feeler\n",
      "resetting feeler\n",
      "resetting feeler\n",
      "resetting feeler\n",
      "resetting feeler\n",
      "resetting feeler\n",
      "resetting feeler\n",
      "resetting feeler\n",
      "resetting feeler\n",
      "resetting feeler\n",
      "resetting feeler\n",
      "resetting feeler\n",
      "resetting feeler\n",
      "resetting feeler\n",
      "resetting feeler\n",
      "resetting feeler\n",
      "resetting feeler\n",
      "resetting feeler\n",
      "resetting feeler\n",
      "resetting feeler\n",
      "resetting feeler\n",
      "resetting feeler\n",
      "resetting feeler\n",
      "resetting feeler\n",
      "resetting feeler\n",
      "resetting feeler\n",
      "resetting feeler\n",
      "resetting feeler\n",
      "resetting feeler\n",
      "resetting feeler\n",
      "resetting feeler\n",
      "resetting feeler\n",
      "resetting feeler\n",
      "resetting feeler\n",
      "resetting feeler\n",
      "resetting feeler\n",
      "resetting feeler\n",
      "resetting feeler\n",
      "resetting feeler\n",
      "resetting feeler\n",
      "resetting feeler\n",
      "resetting feeler\n",
      "resetting feeler\n",
      "resetting feeler\n",
      "resetting feeler\n",
      "resetting feeler\n",
      "resetting feeler\n",
      "resetting feeler\n",
      "resetting feeler\n",
      "resetting feeler\n",
      "resetting feeler\n",
      "resetting feeler\n",
      "resetting feeler\n",
      "resetting feeler\n",
      "resetting feeler\n",
      "resetting feeler\n",
      "resetting feeler\n",
      "resetting feeler\n",
      "resetting feeler\n",
      "resetting feeler\n",
      "resetting feeler\n",
      "resetting feeler\n",
      "resetting feeler\n",
      "resetting feeler\n",
      "resetting feeler\n",
      "resetting feeler\n",
      "resetting feeler\n",
      "resetting feeler\n",
      "resetting feeler\n",
      "resetting feeler\n",
      "resetting feeler\n",
      "resetting feeler\n",
      "resetting feeler\n",
      "resetting feeler\n",
      "resetting feeler\n",
      "resetting feeler\n",
      "resetting feeler\n",
      "resetting feeler\n",
      "resetting feeler\n",
      "resetting feeler\n",
      "resetting feeler\n",
      "resetting feeler\n",
      "resetting feeler\n",
      "resetting feeler\n",
      "resetting feeler\n",
      "resetting feeler\n",
      "resetting feeler\n",
      "resetting feeler\n",
      "resetting feeler\n",
      "resetting feeler\n",
      "resetting feeler\n",
      "resetting feeler\n",
      "resetting feeler\n",
      "resetting feeler\n",
      "resetting feeler\n",
      "resetting feeler\n",
      "resetting feeler\n",
      "resetting feeler\n",
      "resetting feeler\n",
      "resetting feeler\n",
      "resetting feeler\n",
      "resetting feeler\n",
      "resetting feeler\n",
      "resetting feeler\n",
      "resetting feeler\n",
      "resetting feeler\n",
      "resetting feeler\n",
      "resetting feeler\n",
      "resetting feeler\n",
      "resetting feeler\n",
      "resetting feeler\n",
      "resetting feeler\n",
      "resetting feeler\n",
      "resetting feeler\n",
      "resetting feeler\n",
      "resetting feeler\n",
      "resetting feeler\n",
      "resetting feeler\n",
      "resetting feeler\n",
      "resetting feeler\n",
      "resetting feeler\n",
      "resetting feeler\n",
      "resetting feeler\n",
      "resetting feeler\n",
      "resetting feeler\n",
      "resetting feeler\n",
      "resetting feeler\n",
      "resetting feeler\n",
      "resetting feeler\n",
      "resetting feeler\n",
      "resetting feeler\n",
      "resetting feeler\n",
      "resetting feeler\n",
      "resetting feeler\n",
      "resetting feeler\n",
      "resetting feeler\n",
      "resetting feeler\n",
      "resetting feeler\n",
      "resetting feeler\n",
      "resetting feeler\n",
      "resetting feeler\n",
      "resetting feeler\n",
      "resetting feeler\n",
      "resetting feeler\n",
      "resetting feeler\n",
      "resetting feeler\n",
      "resetting feeler\n",
      "resetting feeler\n",
      "resetting feeler\n",
      "resetting feeler\n",
      "resetting feeler\n",
      "resetting feeler\n",
      "resetting feeler\n",
      "resetting feeler\n",
      "resetting feeler\n",
      "resetting feeler\n",
      "resetting feeler\n",
      "resetting feeler\n",
      "resetting feeler\n",
      "resetting feeler\n",
      "resetting feeler\n",
      "resetting feeler\n",
      "resetting feeler\n",
      "resetting feeler\n",
      "resetting feeler\n",
      "resetting feeler\n",
      "resetting feeler\n",
      "resetting feeler\n",
      "resetting feeler\n",
      "resetting feeler\n",
      "resetting feeler\n",
      "resetting feeler\n",
      "resetting feeler\n",
      "resetting feeler\n",
      "resetting feeler\n",
      "resetting feeler\n",
      "resetting feeler\n",
      "resetting feeler\n",
      "resetting feeler\n",
      "resetting feeler\n",
      "resetting feeler\n",
      "resetting feeler\n",
      "resetting feeler\n",
      "resetting feeler\n",
      "resetting feeler\n",
      "resetting feeler\n",
      "resetting feeler\n",
      "resetting feeler\n",
      "resetting feeler\n",
      "resetting feeler\n",
      "resetting feeler\n",
      "resetting feeler\n",
      "resetting feeler\n",
      "resetting feeler\n",
      "resetting feeler\n",
      "resetting feeler\n",
      "resetting feeler\n",
      "resetting feeler\n",
      "resetting feeler\n",
      "resetting feeler\n",
      "resetting feeler\n",
      "resetting feeler\n",
      "resetting feeler\n",
      "resetting feeler\n",
      "resetting feeler\n",
      "resetting feeler\n",
      "resetting feeler\n",
      "resetting feeler\n",
      "resetting feeler\n",
      "resetting feeler\n",
      "resetting feeler\n",
      "resetting feeler\n",
      "resetting feeler\n",
      "resetting feeler\n",
      "resetting feeler\n",
      "resetting feeler\n",
      "resetting feeler\n",
      "resetting feeler\n",
      "resetting feeler\n",
      "resetting feeler\n",
      "resetting feeler\n",
      "resetting feeler\n",
      "resetting feeler\n",
      "resetting feeler\n",
      "resetting feeler\n",
      "resetting feeler\n",
      "resetting feeler\n",
      "resetting feeler\n",
      "resetting feeler\n",
      "resetting feeler\n",
      "resetting feeler\n",
      "resetting feeler\n",
      "resetting feeler\n",
      "resetting feeler\n",
      "resetting feeler\n",
      "resetting feeler\n",
      "resetting feeler\n",
      "resetting feeler\n",
      "resetting feeler\n",
      "resetting feeler\n",
      "resetting feeler\n",
      "resetting feeler\n",
      "resetting feeler\n",
      "resetting feeler\n",
      "resetting feeler\n",
      "resetting feeler\n",
      "resetting feeler\n",
      "resetting feeler\n",
      "resetting feeler\n",
      "resetting feeler\n",
      "resetting feeler\n",
      "resetting feeler\n",
      "resetting feeler\n",
      "resetting feeler\n",
      "resetting feeler\n",
      "resetting feeler\n",
      "resetting feeler\n",
      "resetting feeler\n",
      "resetting feeler\n",
      "resetting feeler\n",
      "resetting feeler\n",
      "resetting feeler\n",
      "resetting feeler\n",
      "resetting feeler\n",
      "resetting feeler\n",
      "resetting feeler\n"
     ]
    }
   ],
   "source": [
    "with tf.variable_scope('GP-best-point-finder'):\n",
    "    best_point_list=[]\n",
    "    for i in range(max_feelers):\n",
    "        best_point_list += [tf.Variable(tf.random_uniform([hyper_param_dim],l2_reg_min,l2_reg_max))]\n",
    "    # our best point is randomly initialized\n",
    "    GP_best_points = tf.stack(best_point_list)\n",
    "    # For the kernel we stop gradients from back-propagating to the length scale and noise estimates.\n",
    "    GP_fixed_kernel = lambda l2x,l2y:matern_kernel(l2x,l2y,\n",
    "                                                     tf.stop_gradient(GP_log_length_scale),\n",
    "                                                     tf.stop_gradient(GP_log_sample_noise),\n",
    "                                                    tf.stop_gradient(GP_log_kernel_scale))\n",
    "    GP_best_point_means = GP_mean(GP_fixed_kernel,GP_sampled_x,GP_sampled_y,GP_best_points)\n",
    "    GP_best_point_optimizer = tf.train.AdamOptimizer(.05)\n",
    "    GP_best_point_train = GP_optimizer.minimize(tf.reduce_mean(GP_best_point_means))\n",
    "    \n",
    "model_variables = tf.get_collection(tf.GraphKeys.GLOBAL_VARIABLES, scope='GP-best-point-finder')\n",
    "tf.variables_initializer(model_variables).run()\n",
    "# find the value of best_point which minimizes the Gaussian process:\n",
    "for j in range(1000):\n",
    "    cur_points,means,_ = sess.run([GP_best_points,GP_best_point_means,GP_best_point_train],\n",
    "                    {GP_sampled_x:log_sample_points,\n",
    "                    GP_sampled_y:log_sample_values})\n",
    "#     if j % 100 == 0:\n",
    "#         print(GP_best_point.eval())  \n",
    "    for i in range(max_feelers):\n",
    "        if not np.isfinite(cur_points[i]).all():\n",
    "            print('resetting feeler')\n",
    "            tf.variables_initializer([best_point_list[i]]).run()\n",
    "min_index = np.argmin(means)\n",
    "best_point = cur_points[min_index,:]"
   ]
  },
  {
   "cell_type": "code",
   "execution_count": 25,
   "metadata": {},
   "outputs": [
    {
     "name": "stdout",
     "output_type": "stream",
     "text": [
      "Expected minimum validation-cross entropy: 14.1765 +- 3.2047\n",
      "At point: (-39.3259,-32.7787,-4.5992,-20.3489)\n",
      "Corresponding to hyperparameters:\n",
      "        prior confidence of constant scale: 0.0000,\n",
      "        prior confidence of scale growing linearly: 0.0000,\n",
      "        prior confidence of constant shape: 0.1003,\n",
      "        prior confidence of shape decreasing inverse-linearly: 0.0000\n"
     ]
    }
   ],
   "source": [
    "GP_min_point_est = np.exp(best_point)\n",
    "GP_min_value_est = tf.exp(GP_mean_func).eval({GP_sampled_x:log_sample_points,\n",
    "                           GP_sampled_y:log_sample_values,\n",
    "                            GP_new_x:[best_point]})\n",
    "GP_min_error_est = GP_min_value_est*tf.sqrt(tf.reduce_mean(GP_cov_func)).eval({GP_sampled_x:log_sample_points,\n",
    "                           GP_sampled_y:log_sample_values,\n",
    "                            GP_new_x:[best_point]})\n",
    "print(\"Expected minimum validation-cross entropy: %.4f +- %.4f\" %(GP_min_value_est,GP_min_error_est))\n",
    "print(\"At point: (%.4f,%.4f,%.4f,%.4f)\"%(best_point[0],best_point[1],best_point[2],best_point[3]))\n",
    "print(\"Corresponding to hyperparameters:\\n\\\n",
    "        prior confidence of constant scale: %.4f,\\n\\\n",
    "        prior confidence of scale growing linearly: %.4f,\\n\\\n",
    "        prior confidence of constant shape: %.4f,\\n\\\n",
    "        prior confidence of shape decreasing inverse-linearly: %.4f\"\\\n",
    "      %(np.sqrt(GP_min_point_est[0]),\n",
    "        np.sqrt(GP_min_point_est[1]),\n",
    "        np.sqrt(GP_min_point_est[2]),\n",
    "        np.sqrt(GP_min_point_est[3])))"
   ]
  },
  {
   "cell_type": "markdown",
   "metadata": {},
   "source": [
    "최적화된 하이퍼 파라미터들과 함께 우리 모델을 트레이닝 해보죠:"
   ]
  },
  {
   "cell_type": "code",
   "execution_count": 26,
   "metadata": {},
   "outputs": [
    {
     "name": "stdout",
     "output_type": "stream",
     "text": [
      "step: 0, loss: 20.601, a: 0.0500, b: 0.0461, min scale: 0.9512, scale rate of change: 0.9500, \n",
      "                      min shape: 1.0513 shape rate of change: 0.95\n",
      "step: 100, loss: 12.409, a: 0.0930, b: 0.0634, min scale: 1.0188, scale rate of change: 0.7172, \n",
      "                      min shape: 2.0501 shape rate of change: 0.19\n",
      "step: 200, loss: 12.662, a: 0.0501, b: -0.0402, min scale: 1.1166, scale rate of change: 0.6207, \n",
      "                      min shape: 2.0076 shape rate of change: 0.08\n",
      "step: 300, loss: 9.172, a: -0.0019, b: -0.1456, min scale: 1.0824, scale rate of change: 0.3888, \n",
      "                      min shape: 2.0570 shape rate of change: 0.18\n",
      "step: 400, loss: 12.574, a: -0.0651, b: -0.2094, min scale: 1.6458, scale rate of change: 0.5218, \n",
      "                      min shape: 3.4101 shape rate of change: 0.40\n",
      "step: 500, loss: 14.281, a: 0.4570, b: 0.3069, min scale: 3.1530, scale rate of change: 0.4589, \n",
      "                      min shape: 3.4472 shape rate of change: 0.38\n",
      "step: 600, loss: 13.824, a: 0.4188, b: 0.1333, min scale: 3.2225, scale rate of change: 0.4610, \n",
      "                      min shape: 3.4518 shape rate of change: 0.36\n",
      "step: 700, loss: 13.705, a: 0.3714, b: -0.0740, min scale: 3.1763, scale rate of change: 0.4378, \n",
      "                      min shape: 3.4573 shape rate of change: 0.34\n",
      "step: 800, loss: 13.531, a: 0.3113, b: -0.3193, min scale: 3.1182, scale rate of change: 0.4068, \n",
      "                      min shape: 3.4634 shape rate of change: 0.31\n",
      "step: 900, loss: 13.229, a: 0.2294, b: -0.6184, min scale: 3.0398, scale rate of change: 0.3610, \n",
      "                      min shape: 3.4700 shape rate of change: 0.29\n",
      "step: 1000, loss: 12.272, a: 0.0851, b: -1.0253, min scale: 2.8896, scale rate of change: 0.2558, \n",
      "                      min shape: 3.4772 shape rate of change: 0.27\n"
     ]
    },
    {
     "data": {
      "text/plain": [
       "12.243451"
      ]
     },
     "execution_count": 26,
     "metadata": {},
     "output_type": "execute_result"
    }
   ],
   "source": [
    "train_model(l2_reg_strength_val=GP_min_point_est,verbose=True)"
   ]
  },
  {
   "cell_type": "code",
   "execution_count": 27,
   "metadata": {},
   "outputs": [
    {
     "data": {
      "image/png": "[encoded data removed]",
      "text/plain": [
       "<matplotlib.figure.Figure at 0x26664ba4940>"
      ]
     },
     "metadata": {},
     "output_type": "display_data"
    }
   ],
   "source": [
    "plot_model(ylim=[-10,20])"
   ]
  },
  {
   "cell_type": "markdown",
   "metadata": {},
   "source": [
    "드디어, 테스트 셋의 error를 확인할 수 있습니다:"
   ]
  },
  {
   "cell_type": "code",
   "execution_count": 28,
   "metadata": {},
   "outputs": [
    {
     "name": "stdout",
     "output_type": "stream",
     "text": [
      "Test Set Cross Entropy Error: 12.2466\n"
     ]
    }
   ],
   "source": [
    "test_set_cross_entropy = cross_entropy.eval({x:test_data[:,0],y_:test_data[:,1]})\n",
    "print(\"Test Set Cross Entropy Error: %.4f\"%test_set_cross_entropy)"
   ]
  }
 ],
 "metadata": {
  "kernelspec": {
   "display_name": "Python 3",
   "language": "python",
   "name": "python3"
  },
  "language_info": {
   "codemirror_mode": {
    "name": "ipython",
    "version": 3
   },
   "file_extension": ".py",
   "mimetype": "text/x-python",
   "name": "python",
   "nbconvert_exporter": "python",
   "pygments_lexer": "ipython3",
   "version": "3.6.4"
  }
 },
 "nbformat": 4,
 "nbformat_minor": 2
}
