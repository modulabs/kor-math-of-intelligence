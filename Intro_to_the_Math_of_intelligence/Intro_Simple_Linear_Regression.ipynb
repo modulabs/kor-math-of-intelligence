{
 "cells": [
  {
   "cell_type": "markdown",
   "metadata": {},
   "source": [
    "# The math of Intelligence\n",
    "lectured by Siraj Raval\n",
    "## Intro : Simple Linear regression"
   ]
  },
  {
   "cell_type": "markdown",
   "metadata": {},
   "source": [
    "### Simple Linear regression\n",
    "$\n",
    "Hypothesis : Y_i=wx_i+b+\\epsilon_i, \\\\ \\quad \\quad \\quad \\quad \\ \\ \\ \\epsilon_i \\sim N(0,\\sigma^2), \\ Y_i \\sim N(E(Y_i|X = x_i), \\sigma^2) \\\\\n",
    "Conditional \\ Expectation : E(Y_i|X = x_i) = wx_i+b \\\\\n",
    "Loss \\ function : L = \\frac{1}{n}\\sum_{i=1}^n (y_i - E(Y_i|X = x_i))^2= \\frac{1}{n}\\sum_{i=1}^n (y_i - wx_i - b)^2 \\\\    \n",
    "Partial \\ derivative : \\frac{\\partial L}{\\partial w}=-\\frac{2}{n} \\sum_{i=1}^n x_i (y_i - wx_i - b),\\quad  \n",
    "\\frac{\\partial L}{\\partial b}=-\\frac{2}{n} \\sum_{i=1}^n (y_i - wx_i - b)  \\\\\n",
    "Gradient \\ descent : w \\leftarrow w - \\lambda \\frac{\\partial L}{\\partial w},\\quad  \n",
    "b \\leftarrow b - \\lambda \\frac{\\partial L}{\\partial b}\n",
    "$"
   ]
  },
  {
   "cell_type": "markdown",
   "metadata": {},
   "source": [
    "## Code templeate "
   ]
  },
  {
   "cell_type": "markdown",
   "metadata": {},
   "source": [
    "### Importing modules"
   ]
  },
  {
   "cell_type": "code",
   "execution_count": 1,
   "metadata": {},
   "outputs": [],
   "source": [
    "import os, sys\n",
    "import numpy as np"
   ]
  },
  {
   "cell_type": "markdown",
   "metadata": {},
   "source": [
    "### Importing data"
   ]
  },
  {
   "cell_type": "code",
   "execution_count": 2,
   "metadata": {},
   "outputs": [
    {
     "data": {
      "text/plain": [
       "['.DS_Store',\n",
       " '.ipynb_checkpoints',\n",
       " 'data.csv',\n",
       " 'demo.py',\n",
       " 'Intro.ipynb',\n",
       " 'LICENSE',\n",
       " 'README.md']"
      ]
     },
     "execution_count": 2,
     "metadata": {},
     "output_type": "execute_result"
    }
   ],
   "source": [
    "os.listdir()"
   ]
  },
  {
   "cell_type": "code",
   "execution_count": 3,
   "metadata": {},
   "outputs": [
    {
     "data": {
      "text/plain": [
       "(100, 2)"
      ]
     },
     "execution_count": 3,
     "metadata": {},
     "output_type": "execute_result"
    }
   ],
   "source": [
    "data = np.loadtxt('./data.csv', delimiter=',')\n",
    "data.shape"
   ]
  },
  {
   "cell_type": "code",
   "execution_count": 4,
   "metadata": {},
   "outputs": [
    {
     "data": {
      "text/plain": [
       "array([[ 32.50234527,  31.70700585],\n",
       "       [ 53.42680403,  68.77759598],\n",
       "       [ 61.53035803,  62.5623823 ],\n",
       "       [ 47.47563963,  71.54663223],\n",
       "       [ 59.81320787,  87.23092513]])"
      ]
     },
     "execution_count": 4,
     "metadata": {},
     "output_type": "execute_result"
    }
   ],
   "source": [
    "data[:5]"
   ]
  },
  {
   "cell_type": "markdown",
   "metadata": {},
   "source": [
    "### Define function"
   ]
  },
  {
   "cell_type": "code",
   "execution_count": 5,
   "metadata": {},
   "outputs": [],
   "source": [
    "def calculate_loss(current_w, current_b, points):\n",
    "    return np.mean(np.square(points[:,1] - points[:,0] * current_w - current_b))"
   ]
  },
  {
   "cell_type": "code",
   "execution_count": 6,
   "metadata": {},
   "outputs": [],
   "source": [
    "# not mini-batch\n",
    "def step_gradient(current_w, current_b, points, learning_rate):\n",
    "    dw = 0\n",
    "    db = 0\n",
    "    n = points.shape[0]\n",
    "    for point in points:\n",
    "        x = point[0]\n",
    "        y = point[1]\n",
    "        dw += - (2 / n) * x * (y - current_w * x - current_b)\n",
    "        db += - (2 / n) * (y - current_w * x - current_b)\n",
    "    updated_w = current_w - learning_rate * dw\n",
    "    updated_b = current_b - learning_rate * db\n",
    "    return [updated_w, updated_b]"
   ]
  },
  {
   "cell_type": "code",
   "execution_count": 7,
   "metadata": {},
   "outputs": [],
   "source": [
    "def gradient_descent_runner(points, initial_w, initial_b, learning_rate, num_iterations):\n",
    "    w = initial_w\n",
    "    b = initial_b\n",
    "    for i in range(num_iterations):\n",
    "        w, b = step_gradient(w, b, points, learning_rate)\n",
    "    return [w, b]"
   ]
  },
  {
   "cell_type": "markdown",
   "metadata": {},
   "source": [
    "### Training"
   ]
  },
  {
   "cell_type": "code",
   "execution_count": 8,
   "metadata": {},
   "outputs": [
    {
     "name": "stdout",
     "output_type": "stream",
     "text": [
      "Starting gradient descent at w = 0.000, b = 0.000, error = 5565.108\n",
      "Running...\n",
      "After 1000 iterations w = 1.472, b = 0.266, error = 112.523\n"
     ]
    }
   ],
   "source": [
    "def run():\n",
    "    points = data\n",
    "    learning_rate = .0004\n",
    "    initial_w = 0 # initial y-intercept guess\n",
    "    initial_b = 0 # initial slope guess\n",
    "    num_iterations = 1000\n",
    "    print(\"Starting gradient descent at w = {:.3f}, b = {:.3f}, error = {:.3f}\".format(initial_w, initial_b,\n",
    "                                                                           calculate_loss(initial_w, initial_b, points)))\n",
    "    print(\"Running...\")\n",
    "    [w, b] = gradient_descent_runner(points, initial_w, initial_b, learning_rate, num_iterations)\n",
    "    print(\"After {:3} iterations w = {:.3f}, b = {:.3f}, error = {:.3f}\".format(num_iterations, w, b,\n",
    "                                                                      calculate_loss(w, b, points)))\n",
    "    return w, b\n",
    "if __name__ == '__main__':\n",
    "    w, b = run()"
   ]
  },
  {
   "cell_type": "code",
   "execution_count": 9,
   "metadata": {},
   "outputs": [],
   "source": [
    "import matplotlib.pyplot as plt\n",
    "%matplotlib inline"
   ]
  },
  {
   "cell_type": "code",
   "execution_count": 10,
   "metadata": {},
   "outputs": [
    {
     "data": {
      "text/plain": [
       "[<matplotlib.lines.Line2D at 0x2646500e198>]"
      ]
     },
     "execution_count": 10,
     "metadata": {},
     "output_type": "execute_result"
    },
    {
     "data": {
      "image/png": "[encoded data removed]",
      "text/plain": [
       "<matplotlib.figure.Figure at 0x2646500e1d0>"
      ]
     },
     "metadata": {},
     "output_type": "display_data"
    }
   ],
   "source": [
    "plt.scatter(data[:,0], data[:,1])\n",
    "plt.plot(data[:,0], w * data[:,0] + b, 'r-')"
   ]
  }
 ],
 "metadata": {
  "kernelspec": {
   "display_name": "Python 3",
   "language": "python",
   "name": "python3"
  },
  "language_info": {
   "codemirror_mode": {
    "name": "ipython",
    "version": 3
   },
   "file_extension": ".py",
   "mimetype": "text/x-python",
   "name": "python",
   "nbconvert_exporter": "python",
   "pygments_lexer": "ipython3",
   "version": "3.6.3"
  },
  "varInspector": {
   "cols": {
    "lenName": 16,
    "lenType": 16,
    "lenVar": 40
   },
   "kernels_config": {
    "python": {
     "delete_cmd_postfix": "",
     "delete_cmd_prefix": "del ",
     "library": "var_list.py",
     "varRefreshCmd": "print(var_dic_list())"
    },
    "r": {
     "delete_cmd_postfix": ") ",
     "delete_cmd_prefix": "rm(",
     "library": "var_list.r",
     "varRefreshCmd": "cat(var_dic_list()) "
    }
   },
   "types_to_exclude": [
    "module",
    "function",
    "builtin_function_or_method",
    "instance",
    "_Feature"
   ],
   "window_display": false
  }
 },
 "nbformat": 4,
 "nbformat_minor": 2
}
