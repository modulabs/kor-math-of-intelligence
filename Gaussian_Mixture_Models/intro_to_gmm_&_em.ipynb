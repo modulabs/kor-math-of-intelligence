{
 "cells": [
  {
   "cell_type": "markdown",
   "metadata": {},
   "source": [
    "가우시안 믹스쳐 모델 (GMM, Gaussian Mixture Models)\n",
    "---------------------"
   ]
  },
  {
   "cell_type": "markdown",
   "metadata": {},
   "source": [
    "-----------"
   ]
  },
  {
   "cell_type": "markdown",
   "metadata": {},
   "source": [
    "## 데모 - 소비자 이탈률(churn rate) 예측\n",
    "\n",
    "주어진 소비자들의 세트에서, 만약 한달에 소비자들이 얼마나 많은 돈을 출금하거나 입금하는지 알고 있다면, 만약 그들이 다음 달에도 계속 앱을 사용한다면 우리가 예측할 수 있다고 해봅시다.<br><br><br>\n",
    "\n",
    "<img src=\"https://qph.ec.quoracdn.net/main-qimg-e662c860801e26c6d1a41a7de35a7884-c\" width=\"250\" height=\"250\"><br>\n",
    "\n",
    "가우시안 믹스쳐 모델(GMM, EM Clustering이라고도 한다)은 보편적으로 사용되는 generative unsupervised clustering이다. GMM의 기본원리는 매우 간단하다: 주어진 데이터셋에서, 각 포인트는 linearly combining multiple multivariate Gaussians로 생성된다. "
   ]
  },
  {
   "cell_type": "markdown",
   "metadata": {},
   "source": [
    "--------------"
   ]
  },
  {
   "cell_type": "markdown",
   "metadata": {},
   "source": [
    "### 가우시안이 뭐지?<br>\n",
    "\n",
    "#### 분포는 실험의 outcomes과 각 outcome과 관련있는 확률을 리스팅(listing)한 것이다.<br><br>\n",
    "\n",
    "<img src=\"http://www.amathsdictionaryforkids.com/qr/fimages/frequencyDistributionTable.gif\" width=\"250\" height=\"250\">\n",
    "\n",
    "<img src=\"https://upload.wikimedia.org/wikipedia/commons/thumb/a/a9/Empirical_Rule.PNG/450px-Empirical_Rule.PNG\" width=\"250\" height=\"250\"><br>\n",
    "\n",
    "<img src=\"https://thecuriousastronomer.files.wordpress.com/2014/06/1000px-normal_distribution_pdf-svg.png\" width=\"250\" height=\"250\">\n",
    "\n",
    "<img src=\"http://i.imgur.com/iDNiL13.jpg\" width=\"250\" height=\"250\"><br>\n",
    "\n",
    "가우시안 분포의 공식은 확률 밀도 함수(PDF, probability density function)라고도 한다. continuous random variable의 함수이며, interval을 두고 있는 적분은 변수의 값이 같은 interval안에 있을 확률을 제공한다.<br>"
   ]
  },
  {
   "cell_type": "markdown",
   "metadata": {},
   "source": [
    "----------"
   ]
  },
  {
   "cell_type": "markdown",
   "metadata": {},
   "source": [
    "## 가우시안 믹스처 모델은 뭐지?<br>\n",
    "\n",
    "여러개의 확률 분포로 이루어진 확률 분포이다.<br><br>\n",
    "\n",
    "<img src=\"http://i.imgur.com/F8Df1m3.png\" width=\"250\" height=\"250\"><br><br>\n",
    "\n",
    "공분산은 두번째 변수안의 변화와 관련성이 있는 첫번째 변수가 어떻게 바뀌는지를 측정하는거다.<br>\n",
    "\n",
    "세부적으로는, 공분산은 선형 연관성(linearly associated)이 있는 두 변수의 차수(degree)를 측정한다.<br>\n",
    "\n",
    "하지만, 비공식적으로 얼마나 두 변수가 monotonically related한가를 일반적으로 측정할때도 종종 사용한다.<br><br>\n",
    "<img src=\"http://i.imgur.com/tBtZ0W4.png\" width=\"500\" height=\"500\">\n",
    "\n",
    "<img src=\"http://i.imgur.com/750NscW.png\" width=\"500\" height=\"500\">\n",
    "\n",
    "<img src=\"http://4.bp.blogspot.com/-zuCQBrN8990/VGt45PZHXhI/AAAAAAAAA1E/jtQQaAj-PMc/s1600/gmm2.png\" width=\"250\" height=\"250\">\n",
    "\n",
    "<img src=\"http://dirichletprocess.weebly.com/uploads/1/9/8/4/19847957/3346416.png?1367446693\" width=\"250\" height=\"250\">\n",
    "\n",
    "<img src=\"http://i.imgur.com/0vZg6NX.png\" width=\"500\" height=\"500\">\n",
    "\n",
    "<img src=\"http://recognize-speech.com/images/robert/gmm_intro/mvg1.png\" width=\"250\" height=\"250\"><br><br>\n",
    "\n",
    "\n",
    "아래서는 K means와 비슷하다<br>\n",
    "\n",
    "<img src=\"http://i.imgur.com/y5PeNL0.png\" width=\"500\" height=\"500\"><br>\n",
    "\n",
    "Hard vs Soft Assignment. Hard는 mis grouping을 주도할 수 있다.<br><br><br>\n",
    "\n",
    "\n",
    "가우시안 믹스처:<br>\n",
    "\n",
    "데이터 포인트를 클러스터에 Hard assigning 하는 대신, 만약 데이터 포인트가 어느 그룹에 속하는지 어디에 있는지 불확실하다면, 이 방법을 쓸 수 있다. 포인트가 속한 클러스터의 실현 가능도(feasibility, 적당성?)을 결정하기 위해 샘플의 확률을 사용한다. <br><br>"
   ]
  },
  {
   "cell_type": "markdown",
   "metadata": {},
   "source": [
    "-----------------"
   ]
  },
  {
   "cell_type": "markdown",
   "metadata": {},
   "source": [
    "#### 어떻게 optimized하나?\n",
    "<br>\n",
    "\n",
    "EM 알고리즘 (The Expectation Maximization Algorithm)<br><br>\n",
    "\n",
    "<img src=\"http://i.imgur.com/B5HgxrH.png\" width=\"250\" height=\"250\">"
   ]
  },
  {
   "cell_type": "markdown",
   "metadata": {},
   "source": [
    "------------"
   ]
  },
  {
   "cell_type": "markdown",
   "metadata": {},
   "source": [
    "<br>\n",
    "#### Gradient Descent와의 비교<br>\n",
    "\n",
    "서로 다른 방법들을 사용해서 MLE(Maximum Likelihood Estimates)추정을 얻을 수 있는데, optimization 알고리즘은 그 중 하나이다. 다른 측면에선, gradient descent를 다른 likelihood 함수보다 함수를 최대화하는데에도 사용할 수 있다.<br><br>"
   ]
  },
  {
   "cell_type": "markdown",
   "metadata": {},
   "source": [
    "---------"
   ]
  },
  {
   "cell_type": "markdown",
   "metadata": {},
   "source": [
    "#### 언제 그걸 쓸 수 있지?<br>\n",
    "\n",
    "unlabeld data를 갖고 있고 그걸 classify하고 싶을때면 언제든 쓸 수 있다, 만약 데이터가 정규 분포되어있다면 말이다.<br>\n",
    "\n",
    "소비자 이탈률 예측<br>\n",
    "비정상 탐지<br>\n",
    "오브젝트 추적<br><br>\n",
    "<img src=\"http://i.imgur.com/cm0UxfF.png\" width=\"350\" height=\"350\"><br>\n",
    "\n",
    "#### 관련있는 레포들<br>\n",
    "https://github.com/benathi/word2gm 텐서플로우 사용 + 장르에 따라 GMM으로 노래 가사 분류<br>\n",
    "https://github.com/GaborLengyel/Finite-Gaussian-Mixture-models/blob/master/Finite%20Gaussian%20Mixture%20models.ipynb  <br>\n",
    "다양한 목적의 튜토리얼<br>\n"
   ]
  },
  {
   "cell_type": "markdown",
   "metadata": {},
   "source": [
    "--------------------"
   ]
  },
  {
   "cell_type": "markdown",
   "metadata": {},
   "source": [
    "Dependencies 임포트와 분포 그래프 시험 \n",
    "------\n"
   ]
  },
  {
   "cell_type": "code",
   "execution_count": 1,
   "metadata": {
    "collapsed": true
   },
   "outputs": [],
   "source": [
    "reset -fs"
   ]
  },
  {
   "cell_type": "code",
   "execution_count": 3,
   "metadata": {
    "collapsed": true
   },
   "outputs": [],
   "source": [
    "#For plotting\n",
    "import matplotlib.pyplot as plt\n",
    "#for matrix math\n",
    "import numpy as np\n",
    "#for normalization + probability density function computation\n",
    "from scipy import stats\n",
    "#for plotting\n",
    "import seaborn as sns\n",
    "sns.set_style(\"white\")\n",
    "%matplotlib inline"
   ]
  },
  {
   "cell_type": "code",
   "execution_count": 4,
   "metadata": {
    "collapsed": false
   },
   "outputs": [
    {
     "data": {
      "text/plain": [
       "[<matplotlib.lines.Line2D at 0x1b492f15f28>]"
      ]
     },
     "execution_count": 4,
     "metadata": {},
     "output_type": "execute_result"
    },
    {
     "data": {
      "image/png": "[encoded data removed]",
      "text/plain": [
       "<matplotlib.figure.Figure at 0x1b492c01f28>"
      ]
     },
     "metadata": {},
     "output_type": "display_data"
    }
   ],
   "source": [
    "#Return evenly spaced numbers over a specified interval.\n",
    "x = np.linspace(start=-10, stop=10, num=1000)\n",
    "#A normal continuous random variable.\n",
    "#The location (loc) keyword specifies the mean. The scale (scale) keyword specifies the standard deviation.\n",
    "y = stats.norm.pdf(x, loc=0, scale=1.5) \n",
    "#plot it!\n",
    "plt.plot(x, y)"
   ]
  },
  {
   "cell_type": "code",
   "execution_count": 5,
   "metadata": {
    "collapsed": true
   },
   "outputs": [],
   "source": [
    "#for data preprocessing\n",
    "import pandas as pd"
   ]
  },
  {
   "cell_type": "code",
   "execution_count": 6,
   "metadata": {
    "collapsed": false
   },
   "outputs": [
    {
     "data": {
      "text/html": [
       "<div>\n",
       "<style scoped>\n",
       "    .dataframe tbody tr th:only-of-type {\n",
       "        vertical-align: middle;\n",
       "    }\n",
       "\n",
       "    .dataframe tbody tr th {\n",
       "        vertical-align: top;\n",
       "    }\n",
       "\n",
       "    .dataframe thead th {\n",
       "        text-align: right;\n",
       "    }\n",
       "</style>\n",
       "<table border=\"1\" class=\"dataframe\">\n",
       "  <thead>\n",
       "    <tr style=\"text-align: right;\">\n",
       "      <th></th>\n",
       "      <th>x</th>\n",
       "    </tr>\n",
       "  </thead>\n",
       "  <tbody>\n",
       "    <tr>\n",
       "      <th>0</th>\n",
       "      <td>0.252851</td>\n",
       "    </tr>\n",
       "    <tr>\n",
       "      <th>1</th>\n",
       "      <td>-1.034562</td>\n",
       "    </tr>\n",
       "    <tr>\n",
       "      <th>2</th>\n",
       "      <td>3.319558</td>\n",
       "    </tr>\n",
       "    <tr>\n",
       "      <th>3</th>\n",
       "      <td>4.552363</td>\n",
       "    </tr>\n",
       "    <tr>\n",
       "      <th>4</th>\n",
       "      <td>-0.775995</td>\n",
       "    </tr>\n",
       "  </tbody>\n",
       "</table>\n",
       "</div>"
      ],
      "text/plain": [
       "          x\n",
       "0  0.252851\n",
       "1 -1.034562\n",
       "2  3.319558\n",
       "3  4.552363\n",
       "4 -0.775995"
      ]
     },
     "execution_count": 6,
     "metadata": {},
     "output_type": "execute_result"
    }
   ],
   "source": [
    "#read our dataset\n",
    "df = pd.read_csv(\"bimodal_example.csv\")\n",
    "#show first 5 examples (in BTC)\n",
    "df.head(n=5)"
   ]
  },
  {
   "cell_type": "code",
   "execution_count": 7,
   "metadata": {
    "collapsed": true
   },
   "outputs": [],
   "source": [
    "#show the distribution of the data as a histogram\n",
    "data = df.x"
   ]
  },
  {
   "cell_type": "code",
   "execution_count": 8,
   "metadata": {
    "collapsed": false
   },
   "outputs": [
    {
     "data": {
      "text/plain": [
       "<matplotlib.axes._subplots.AxesSubplot at 0x1b492c0f588>"
      ]
     },
     "execution_count": 8,
     "metadata": {},
     "output_type": "execute_result"
    },
    {
     "data": {
      "image/png": "[encoded data removed]",
      "text/plain": [
       "<matplotlib.figure.Figure at 0x1b492093be0>"
      ]
     },
     "metadata": {},
     "output_type": "display_data"
    }
   ],
   "source": [
    "#plot histogram\n",
    "sns.distplot(data, bins=20, kde=False)"
   ]
  },
  {
   "cell_type": "markdown",
   "metadata": {},
   "source": [
    "정규 분포가 이 데이터에 유용한 모델일까?"
   ]
  },
  {
   "cell_type": "code",
   "execution_count": 9,
   "metadata": {
    "collapsed": false
   },
   "outputs": [
    {
     "data": {
      "text/plain": [
       "<matplotlib.axes._subplots.AxesSubplot at 0x1b4930184e0>"
      ]
     },
     "execution_count": 9,
     "metadata": {},
     "output_type": "execute_result"
    },
    {
     "data": {
      "image/png": "[encoded data removed]",
      "text/plain": [
       "<matplotlib.figure.Figure at 0x1b492fb2dd8>"
      ]
     },
     "metadata": {},
     "output_type": "display_data"
    }
   ],
   "source": [
    "#try to fit a normal distribution to this data\n",
    "sns.distplot(data, fit=stats.norm, bins=20, kde=False,)"
   ]
  },
  {
   "cell_type": "markdown",
   "metadata": {},
   "source": [
    "<br>\n",
    "\n",
    "----\n",
    "모델 정의 (Define the Model)<br>\n",
    "-----\n",
    "\n",
    "두개의 정규 분포 $N(\\mu_1, \\sigma_1^2)$ and $N(\\mu_2, \\sigma_2^2)$. <br>\n",
    "\n",
    "5개의 파라미터가 있다: 그 중 4개는 정규 분포이고, 그 중 하나를 선택할 확률은 1 이상이다. <br>\n",
    "\n",
    "$w$를 첫번째 Normal로부터 나온 데이터의 확률이라 하자, 이 모델의 파라미터는 $\\theta = (w, \\mu_1, \\sigma_1^2, \\mu_2, \\sigma_2^2)$.<br><br>\n",
    "\n",
    "확률 밀도 함수(PDF, Probability Density Function)는:<br>\n",
    "\n",
    "$$f(x | \\theta) = w \\  f_1(x \\ | \\  \\mu_1, \\sigma_1^2) + (1 - w) \\  f_2 (x  \\ | \\  \\mu_2, \\sigma_2^2) $$  <br><br>"
   ]
  },
  {
   "cell_type": "markdown",
   "metadata": {},
   "source": [
    "------------"
   ]
  },
  {
   "cell_type": "markdown",
   "metadata": {},
   "source": [
    "모델 fit (Fit the Model)\n",
    "-----"
   ]
  },
  {
   "cell_type": "markdown",
   "metadata": {
    "slideshow": {
     "slide_type": "slide"
    }
   },
   "source": [
    "**기댓값-최대화 알고리즘(Expectation-Maximization, EM algorithm)**<br>\n",
    "\n",
    "<br>\n",
    "<center><img src=\"http://www.wilsonmongwe.co.za/wp-content/uploads/2015/07/400px-EM.jpg\" width=\"300\"/></center>"
   ]
  },
  {
   "cell_type": "markdown",
   "metadata": {},
   "source": [
    "-----------"
   ]
  },
  {
   "cell_type": "markdown",
   "metadata": {
    "slideshow": {
     "slide_type": "slide"
    }
   },
   "source": [
    "기댓값-최대화 알고리즘(EM algorithm)이란?\n",
    "------\n",
    "\n",
    "MLE 또는 MAP를 찾기 위해 반복적인 방법으로 통계적 모델에서 파라미터를 추정한다, 모델은 관측되지 않는 latent variables에 의존한다.<br><br>"
   ]
  },
  {
   "cell_type": "markdown",
   "metadata": {},
   "source": [
    "--------"
   ]
  },
  {
   "cell_type": "markdown",
   "metadata": {
    "slideshow": {
     "slide_type": "slide"
    }
   },
   "source": [
    "기댓값-최대화 (EM) 워크플로우<br>\n",
    "------------------\n",
    "<br>\n",
    "<center><img src=\"http://people.revoledu.com/kardi/tutorial/EM/images/EM_algorithm.png\" width=\"400\"/></center>"
   ]
  },
  {
   "cell_type": "markdown",
   "metadata": {
    "slideshow": {
     "slide_type": "slide"
    }
   },
   "source": [
    "실행 사이의 다른점:<br>\n",
    "\n",
    "- __Expectation (E)__ 단계: 모델의 현 파라미터들을 제공, 확률 분포를 추정한다<br>\n",
    "- __Maximization (M)__ 단계: 현재 데이터를 제공, 모델을 업데이트 할 파라미터들을 추정"
   ]
  },
  {
   "cell_type": "markdown",
   "metadata": {},
   "source": [
    "--------------"
   ]
  },
  {
   "cell_type": "markdown",
   "metadata": {
    "slideshow": {
     "slide_type": "slide"
    }
   },
   "source": [
    "EM, 더 정석적으로\n",
    "-----------------\n",
    "\n",
    "실행 사이의 다른점:<br>\n",
    "\n",
    "\n",
    "- __Expectation (E)__ 단계: 파라미터들의 현 추정을 사용해서, log-likelihood의 기대값을 위한 함수를 만든다.<br>\n",
    "\n",
    "- __Maximization (M)__ 단계: E 단계에서 예측한 log-likelihood를 최대화하는 파라미터들을 계산한다.<br>\n"
   ]
  },
  {
   "cell_type": "markdown",
   "metadata": {
    "slideshow": {
     "slide_type": "skip"
    }
   },
   "source": [
    "M 파라미터-추정들은 다음 E 단계안에 있는 latent variables들의 분포를 결정하는데에 사용된다."
   ]
  },
  {
   "cell_type": "markdown",
   "metadata": {},
   "source": [
    "-------------"
   ]
  },
  {
   "cell_type": "markdown",
   "metadata": {
    "slideshow": {
     "slide_type": "slide"
    }
   },
   "source": [
    "EM은 이어지는 함수를 최대화하려고 노력한다:\n",
    "-------\n",
    "\n",
    "- 직접적으로 관측되는 변수 x<br>\n",
    "- 모델의 θ (theta) 파라미터들<br>\n",
    "- 직접적으로 관측되지 않거나 / latent variable인 Z<br>\n",
    "   - Z는 x의 joint (related) 분포이다<br>"
   ]
  },
  {
   "cell_type": "markdown",
   "metadata": {},
   "source": [
    "--------------"
   ]
  },
  {
   "cell_type": "markdown",
   "metadata": {
    "slideshow": {
     "slide_type": "slide"
    }
   },
   "source": [
    "EM 단계들\n",
    "-----\n",
    "\n",
    "1. 파라미터들 θ initialize<br>\n",
    "2. 주어진 θ에서 Z를 위한 최선의 값을 계산<br>\n",
    "3. θ를 위한 더 나은 추정을 계산하기 위해 Z의 계산된 값을 사용<br>\n",
    "4. 수렴할때까지 2와 3단계를 반복한다<br>"
   ]
  },
  {
   "cell_type": "markdown",
   "metadata": {},
   "source": [
    "-------------"
   ]
  },
  {
   "cell_type": "markdown",
   "metadata": {
    "slideshow": {
     "slide_type": "slide"
    }
   },
   "source": [
    "EM 단계들, 다른 형태로 해보기\n",
    "--------------\n",
    "\n",
    "1. 모델들의 파라미터들 initialize, 랜덤하게 하거나 \"smart seeding\"하기 <br>\n",
    "\n",
    "2. E 단계: 주어진 현 파라미터 값에서 latent variable의 사후 확률(posterior probabilities)을 찾음<br>\n",
    "\n",
    "3. M 단계: 주어진 현 사후 확률들에서 파라미터 값들을 재추정 \n",
    "\n",
    "4. likelihood 함수의 likelihood를 모니터링하면서 2-3 반복. 수렴하기를 바라면서<br><br>\n",
    "<img src=\"http://i.imgur.com/0cTmOja.png\" width=\"500\" height=\"500\">\n",
    "\n",
    "<img src=\"http://i.imgur.com/8kQ9aa6.png\" width=\"500\" height=\"500\">\n",
    "\n",
    "<img src=\"http://i.imgur.com/A1j3lqB.png\" width=\"500\" height=\"500\">"
   ]
  },
  {
   "cell_type": "markdown",
   "metadata": {},
   "source": [
    "-------------"
   ]
  },
  {
   "cell_type": "markdown",
   "metadata": {},
   "source": [
    "데이터로 다시 돌아가기\n",
    "-----\n",
    "\n"
   ]
  },
  {
   "cell_type": "code",
   "execution_count": 10,
   "metadata": {
    "collapsed": true
   },
   "outputs": [],
   "source": [
    "class Gaussian:\n",
    "    \"Model univariate Gaussian\"\n",
    "    def __init__(self, mu, sigma):\n",
    "        #mean and standard deviation\n",
    "        self.mu = mu\n",
    "        self.sigma = sigma\n",
    "\n",
    "    #probability density function\n",
    "    def pdf(self, datum):\n",
    "        \"Probability of a data point given the current parameters\"\n",
    "        u = (datum - self.mu) / abs(self.sigma)\n",
    "        y = (1 / (sqrt(2 * pi) * abs(self.sigma))) * exp(-u * u / 2)\n",
    "        return y\n",
    "    #printing model values\n",
    "    def __repr__(self):\n",
    "        return 'Gaussian({0:4.6}, {1:4.6})'.format(self.mu, self.sigma)"
   ]
  },
  {
   "cell_type": "code",
   "execution_count": 11,
   "metadata": {
    "collapsed": false
   },
   "outputs": [
    {
     "name": "stdout",
     "output_type": "stream",
     "text": [
      "Best single Gaussian: μ = 1.9, σ = 1.8\n"
     ]
    }
   ],
   "source": [
    "#gaussian of best fit\n",
    "best_single = Gaussian(np.mean(data), np.std(data))\n",
    "print('Best single Gaussian: μ = {:.2}, σ = {:.2}'.format(best_single.mu, best_single.sigma))"
   ]
  },
  {
   "cell_type": "code",
   "execution_count": 12,
   "metadata": {
    "collapsed": false
   },
   "outputs": [
    {
     "data": {
      "image/png": "[encoded data removed]",
      "text/plain": [
       "<matplotlib.figure.Figure at 0x1b494098668>"
      ]
     },
     "metadata": {},
     "output_type": "display_data"
    }
   ],
   "source": [
    "#fit a single gaussian curve to the data\n",
    "x = np.linspace(-6, 8, 200)\n",
    "g_single = stats.norm(best_single.mu, best_single.sigma).pdf(x)\n",
    "sns.distplot(data, bins=20, kde=False, norm_hist=True)\n",
    "plt.plot(x, g_single, label='single gaussian')\n",
    "plt.legend();"
   ]
  },
  {
   "cell_type": "code",
   "execution_count": 13,
   "metadata": {
    "collapsed": true
   },
   "outputs": [],
   "source": [
    "from math import sqrt, log, exp, pi\n",
    "from random import uniform"
   ]
  },
  {
   "cell_type": "markdown",
   "metadata": {},
   "source": [
    "<img src=\"http://i.imgur.com/kbD23Cv.jpg\" width=\"500\" height=\"500\">\n"
   ]
  },
  {
   "cell_type": "code",
   "execution_count": 23,
   "metadata": {
    "collapsed": true
   },
   "outputs": [],
   "source": [
    "class GaussianMixture:\n",
    "    \"Model mixture of two univariate Gaussians and their EM estimation\"\n",
    "\n",
    "    def __init__(self, data, mu_min=min(data), mu_max=max(data), sigma_min=.1, sigma_max=1, mix=.5):\n",
    "        self.data = data\n",
    "        #init with multiple gaussians\n",
    "        self.one = Gaussian(uniform(mu_min, mu_max), \n",
    "                            uniform(sigma_min, sigma_max))\n",
    "        self.two = Gaussian(uniform(mu_min, mu_max), \n",
    "                            uniform(sigma_min, sigma_max))\n",
    "        \n",
    "        #as well as how much to mix them\n",
    "        self.mix = mix\n",
    "        self.loglike = 0. # = log(p = 1)\n",
    "\n",
    "    def Estep(self):\n",
    "        \"Perform an E(stimation)-step, freshening up self.loglike in the process\"\n",
    "        # compute weights\n",
    "        self.loglike = 0. # = log(p = 1)\n",
    "        for datum in self.data:\n",
    "            # unnormalized weights\n",
    "            wp1 = self.one.pdf(datum) * self.mix\n",
    "            wp2 = self.two.pdf(datum) * (1. - self.mix)\n",
    "            # compute denominator\n",
    "            den = wp1 + wp2\n",
    "            # normalize\n",
    "            wp1 /= den\n",
    "            wp2 /= den\n",
    "            # add into loglike\n",
    "            self.loglike += log(wp1 + wp2)\n",
    "            # yield weight tuple\n",
    "            yield (wp1, wp2)\n",
    "\n",
    "    def Mstep(self, weights):\n",
    "        \"Perform an M(aximization)-step\"\n",
    "        # compute denominators\n",
    "        (left, rigt) = zip(*weights)\n",
    "        one_den = sum(left)\n",
    "        two_den = sum(rigt)\n",
    "        # compute new means\n",
    "        self.one.mu = sum(w * d / one_den for (w, d) in zip(left, data))\n",
    "        self.two.mu = sum(w * d / two_den for (w, d) in zip(rigt, data))\n",
    "        # compute new sigmas\n",
    "        self.one.sigma = sqrt(sum(w * ((d - self.one.mu) ** 2)\n",
    "                                  for (w, d) in zip(left, data)) / one_den)\n",
    "        self.two.sigma = sqrt(sum(w * ((d - self.two.mu) ** 2)\n",
    "                                  for (w, d) in zip(rigt, data)) / two_den)\n",
    "        # compute new mix\n",
    "        self.mix = one_den / len(data)\n",
    "\n",
    "    def iterate(self, N=1, verbose=False):\n",
    "        \"Perform N iterations, then compute log-likelihood\"\n",
    "\n",
    "    def pdf(self, x):\n",
    "        return (self.mix)*self.one.pdf(x) + (1-self.mix)*self.two.pdf(x)\n",
    "        \n",
    "    def __repr__(self):\n",
    "        return 'GaussianMixture({0}, {1}, mix={2.03})'.format(self.one, \n",
    "                                                              self.two, \n",
    "                                                              self.mix)\n",
    "\n",
    "    def __str__(self):\n",
    "        return 'Mixture: {0}, {1}, mix={2:.03})'.format(self.one, \n",
    "                                                        self.two, \n",
    "                                                        self.mix)"
   ]
  },
  {
   "cell_type": "code",
   "execution_count": 24,
   "metadata": {
    "collapsed": false
   },
   "outputs": [],
   "source": [
    "# Check out the fitting process\n",
    "n_iterations = 5\n",
    "best_mix = None\n",
    "best_loglike = float('-inf')\n",
    "mix = GaussianMixture(data)\n",
    "for _ in range(n_iterations):\n",
    "    try:\n",
    "        #train!\n",
    "        mix.iterate(verbose=True)\n",
    "        if mix.loglike > best_loglike:\n",
    "            best_loglike = mix.loglike\n",
    "            best_mix = mix\n",
    "        \n",
    "    except (ZeroDivisionError, ValueError, RuntimeWarning): # Catch division errors from bad starts, and just throw them out...\n",
    "        pass"
   ]
  },
  {
   "cell_type": "code",
   "execution_count": 25,
   "metadata": {
    "collapsed": false
   },
   "outputs": [
    {
     "name": "stdout",
     "output_type": "stream",
     "text": [
      "Computing best model with random restarts...\n",
      "\n",
      "\n",
      "\n",
      "Done. 🙂\n"
     ]
    }
   ],
   "source": [
    "# Find best Mixture Gaussian model\n",
    "n_iterations = 20\n",
    "n_random_restarts = 500\n",
    "best_mix = None\n",
    "best_loglike = float('-inf')\n",
    "print('Computing best model with random restarts...\\n')\n",
    "for _ in range(n_random_restarts):\n",
    "    mix = GaussianMixture(data)\n",
    "    for _ in range(n_iterations):\n",
    "        try:\n",
    "            mix.iterate()\n",
    "            if mix.loglike > best_loglike:\n",
    "                best_loglike = mix.loglike\n",
    "                best_mix = mix\n",
    "        except (ZeroDivisionError, ValueError, RuntimeWarning): # Catch division errors from bad starts, and just throw them out...\n",
    "            pass\n",
    "print('\\n\\nDone. 🙂')"
   ]
  },
  {
   "cell_type": "code",
   "execution_count": 26,
   "metadata": {
    "collapsed": false
   },
   "outputs": [
    {
     "data": {
      "image/png": "[encoded data removed]",
      "text/plain": [
       "<matplotlib.figure.Figure at 0x1b4962420b8>"
      ]
     },
     "metadata": {},
     "output_type": "display_data"
    }
   ],
   "source": [
    "#mixture\n",
    "sns.distplot(data, bins=20, kde=False, norm_hist=True)\n",
    "g_both = [best_mix.pdf(e) for e in x]\n",
    "plt.plot(x, g_both, label='gaussian mixture');\n",
    "plt.legend();"
   ]
  },
  {
   "cell_type": "markdown",
   "metadata": {},
   "source": [
    "![alt text](http://www.astroml.org/_images/fig_GMM_1D_1.png \"Logo Title Text 1\")"
   ]
  },
  {
   "cell_type": "markdown",
   "metadata": {},
   "source": [
    "--------------------\n",
    "<br>"
   ]
  },
  {
   "cell_type": "markdown",
   "metadata": {
    "slideshow": {
     "slide_type": "slide"
    }
   },
   "source": [
    "요약<br>\n",
    "----\n",
    "\n",
    "- 가우시안 믹스처 모델 (GMM) 우리의 오래된 친구 가우시안에 다른 가우시안(들)을 더한 것이다.<br>\n",
    "- 이것은 더 복잡한 데이터를 모델할 수 있게 해준다.<br>\n",
    "- 기대값-최대화 (Expectation-Maximization, EM) 알고리즘으로 GMM을 fit한다.<br>\n",
    "- 기대값-최대화 알고리즘은 latent variables가 있다면, 좋은 파라미터 추정을 위한 단계들의 series이다.<br>\n",
    "- EM 단계들:<br>\n",
    "   1. 파라미터 추정 initialize\n",
    "   2. 현 파라미터 추정이 주어졌을 때, Z (데이터 + latent variables)에 대한 최소의 log likelihood를 찾는다.<br>\n",
    "   3. 파라미터 추정 initialize<br>\n",
    "   4. 2와 3단계를 반복한다.<br><br>\n",
    "   \n",
    "- EM은 GMM을 너머 사용할 수 있다.<br>\n",
    "- GMM은 잘 동작한다. 그러나 가우시안들의 숫자를 알고 있어야 한다. KDE (Kernel Density Estimation)은 **추측이 필요없다.**<br>"
   ]
  },
  {
   "cell_type": "markdown",
   "metadata": {
    "slideshow": {
     "slide_type": "slide"
    }
   },
   "source": [
    "<br>\n",
    "<br> \n",
    "<br>\n",
    "\n",
    "----"
   ]
  }
 ],
 "metadata": {
  "anaconda-cloud": {},
  "kernelspec": {
   "display_name": "Python 3",
   "language": "python",
   "name": "python3"
  },
  "language_info": {
   "codemirror_mode": {
    "name": "ipython",
    "version": 3
   },
   "file_extension": ".py",
   "mimetype": "text/x-python",
   "name": "python",
   "nbconvert_exporter": "python",
   "pygments_lexer": "ipython3",
   "version": "3.6.4"
  }
 },
 "nbformat": 4,
 "nbformat_minor": 2
}
